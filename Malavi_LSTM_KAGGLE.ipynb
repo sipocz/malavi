{
  "nbformat": 4,
  "nbformat_minor": 0,
  "metadata": {
    "colab": {
      "name": "Malavi_LSTM_KAGGLE.ipynb",
      "provenance": [],
      "authorship_tag": "ABX9TyN4KTWKlNa6Vs43xT6hImD5",
      "include_colab_link": true
    },
    "kernelspec": {
      "name": "python3",
      "display_name": "Python 3"
    },
    "language_info": {
      "name": "python"
    },
    "accelerator": "GPU"
  },
  "cells": [
    {
      "cell_type": "markdown",
      "metadata": {
        "id": "view-in-github",
        "colab_type": "text"
      },
      "source": [
        "<a href=\"https://colab.research.google.com/github/sipocz/malavi/blob/main/Malavi_LSTM_KAGGLE.ipynb\" target=\"_parent\"><img src=\"https://colab.research.google.com/assets/colab-badge.svg\" alt=\"Open In Colab\"/></a>"
      ]
    },
    {
      "cell_type": "code",
      "metadata": {
        "colab": {
          "base_uri": "https://localhost:8080/"
        },
        "id": "gDIEMsyet7gl",
        "outputId": "b253df08-498b-4b16-dbbd-0917a9039a0c"
      },
      "source": [
        "import pandas as pd\n",
        "import numpy as np\n",
        "from tqdm import tqdm\n",
        "from keras.preprocessing.text import Tokenizer\n",
        "tqdm.pandas(desc=\"progress-bar\")\n",
        "from gensim.models import Doc2Vec\n",
        "from sklearn import utils\n",
        "from sklearn.model_selection import train_test_split\n",
        "from keras.preprocessing.sequence import pad_sequences\n",
        "import gensim\n",
        "from sklearn.linear_model import LogisticRegression\n",
        "from gensim.models.doc2vec import TaggedDocument\n",
        "import re\n",
        "import seaborn as sns\n",
        "import matplotlib.pyplot as plt\n",
        "from keras.backend import clear_session"
      ],
      "execution_count": 1,
      "outputs": [
        {
          "output_type": "stream",
          "text": [
            "/usr/local/lib/python3.7/dist-packages/tqdm/std.py:658: FutureWarning: The Panel class is removed from pandas. Accessing it from the top-level namespace will also be removed in the next version\n",
            "  from pandas import Panel\n"
          ],
          "name": "stderr"
        }
      ]
    },
    {
      "cell_type": "code",
      "metadata": {
        "colab": {
          "base_uri": "https://localhost:8080/"
        },
        "id": "R_d3seQOumaR",
        "outputId": "d129b3c1-5dc1-444f-eec3-f3bcd82430e6"
      },
      "source": [
        "!rm Train.csv\n",
        "fname=\"https://github.com/sipocz/malavi/raw/ccefa7562b0a115d207a02f2cf2754406870ef52/Train.csv\"\n",
        "!wget https://github.com/sipocz/malavi/raw/ccefa7562b0a115d207a02f2cf2754406870ef52/Train.csv"
      ],
      "execution_count": 2,
      "outputs": [
        {
          "output_type": "stream",
          "text": [
            "--2021-04-11 13:51:11--  https://github.com/sipocz/malavi/raw/ccefa7562b0a115d207a02f2cf2754406870ef52/Train.csv\n",
            "Resolving github.com (github.com)... 140.82.114.4\n",
            "Connecting to github.com (github.com)|140.82.114.4|:443... connected.\n",
            "HTTP request sent, awaiting response... 302 Found\n",
            "Location: https://raw.githubusercontent.com/sipocz/malavi/ccefa7562b0a115d207a02f2cf2754406870ef52/Train.csv [following]\n",
            "--2021-04-11 13:51:12--  https://raw.githubusercontent.com/sipocz/malavi/ccefa7562b0a115d207a02f2cf2754406870ef52/Train.csv\n",
            "Resolving raw.githubusercontent.com (raw.githubusercontent.com)... 185.199.108.133, 185.199.109.133, 185.199.110.133, ...\n",
            "Connecting to raw.githubusercontent.com (raw.githubusercontent.com)|185.199.108.133|:443... connected.\n",
            "HTTP request sent, awaiting response... 200 OK\n",
            "Length: 3158546 (3.0M) [text/plain]\n",
            "Saving to: ‘Train.csv’\n",
            "\n",
            "Train.csv           100%[===================>]   3.01M  --.-KB/s    in 0.1s    \n",
            "\n",
            "2021-04-11 13:51:12 (23.6 MB/s) - ‘Train.csv’ saved [3158546/3158546]\n",
            "\n"
          ],
          "name": "stdout"
        }
      ]
    },
    {
      "cell_type": "code",
      "metadata": {
        "id": "OEn9rS2butAD"
      },
      "source": [
        "df=pd.read_csv(\"Train.csv\",sep=\",\")"
      ],
      "execution_count": 3,
      "outputs": []
    },
    {
      "cell_type": "code",
      "metadata": {
        "id": "3XushE4muuXn"
      },
      "source": [
        "c_df=[]\n",
        "for i in range(len(df)):\n",
        "    c_df.append(df.Text[i].replace(\",\",\"\").replace(\".\",\"\").replace(\"?\",\"\").replace(\"(\",\"\").replace(\")\",\"\").replace(\"!\",\"\").replace(\";\",\"\").replace(\"\\n\",\"\").replace(\":\",\"\").replace(\"<\",\"\").lower())\n"
      ],
      "execution_count": 4,
      "outputs": []
    },
    {
      "cell_type": "code",
      "metadata": {
        "id": "Z0TBBax60Aol"
      },
      "source": [
        "df[\"post\"]=c_df"
      ],
      "execution_count": 5,
      "outputs": []
    },
    {
      "cell_type": "code",
      "metadata": {
        "id": "EI4_9w0i-Ua9"
      },
      "source": [
        "labels=['SOCIAL ISSUES', 'EDUCATION', 'RELATIONSHIPS', 'ECONOMY', 'RELIGION', 'POLITICS', 'LAW/ORDER', 'SOCIAL', 'HEALTH', 'ARTS AND CRAFTS', 'FARMING', 'CULTURE', 'FLOODING', 'WITCHCRAFT', 'MUSIC', 'TRANSPORT', 'WILDLIFE/ENVIRONMENT', 'LOCALCHIEFS', 'SPORTS', 'OPINION/ESSAY']"
      ],
      "execution_count": 6,
      "outputs": []
    },
    {
      "cell_type": "code",
      "metadata": {
        "id": "Ad2cJ8cl-ZTk"
      },
      "source": [
        "label_index=[]\n",
        "for i in list(df.Label):\n",
        "    label_index.append(labels.index(i))"
      ],
      "execution_count": 7,
      "outputs": []
    },
    {
      "cell_type": "code",
      "metadata": {
        "id": "W5NK5x8m-cYb"
      },
      "source": [
        "df[\"label_index\"]=label_index"
      ],
      "execution_count": 8,
      "outputs": []
    },
    {
      "cell_type": "code",
      "metadata": {
        "colab": {
          "base_uri": "https://localhost:8080/",
          "height": 103
        },
        "id": "zLEAmQPY01jD",
        "outputId": "0ac356a5-7426-4799-91c6-25bc85dbfa30"
      },
      "source": [
        "df.post[1435]"
      ],
      "execution_count": 9,
      "outputs": [
        {
          "output_type": "execute_result",
          "data": {
            "application/vnd.google.colaboratory.intrinsic+json": {
              "type": "string"
            },
            "text/plain": [
              "' pac iunguza za boma la chifedulo nthumwi zomwe zimakumana mumzinda wa blantyre kukambirana za nkhani yakuti zigawo za dziko lino zizikhala ndi mtsogoleri wakewake pansi pa mtsogoleri wa dziko zati nkhaniyi kuti iyende bwino mpofunika kusintha malamulo ena mfundoyi ikugwirizana ndi zomwe adanena mphunzitsi wa za ndale kusukulu ya ukachenjede ya chancellor college blessings chinsinga kuti popanda kuunika malamulo nkhaniyi ikhoza kudzetsa chisokonezo  chisale watuluka nkumangidwanso  sipakala waimitsa nyumba ya malamulo  chakwera akwanitse malonjezohrdc choyamba tiunike kuti malamulo athu akutinji chifukwa mukhoza kukhala ndi zigawo zodziyimira pazokha zomwe zingamakolanenso chifukwa cha malamulo omwe mukutsata adatero chinsinga msonkhanowo udakonzedwa ndi bungwe la mipingo la public affairs committee pac ndipo cholinga chake chidali kuunika chomwe chidayambitsa nkhaniyi ndi kukambirana momwe ingayendere malinga ndi wapampando wa bungwe la pac mbusa felix chingota nthumwi za kumsonkhanowo zidapeza kuti nkhaniyo idachokera pakusamvetsetsana pa momwe zinthu zina zikuyendera nthumwi zidapeza kuti nkhani monga kusankhana kochokera kukondera pakasankhidwe ka maudindo kusiyanitsa pakagawidwe ka zinthu ndi kupondereza zitukuko zomwe atsogoleri ena adayamba ndi zina mwa zinthu zomwe anthu akuona kuti ndi bwino aziyendetsa okha zinthu adatero chingota mlangizi wa mtsogoleri wa dziko lino pankhani za mgwirizano wa mdziko muno vuwa kaunda adati ndi cholinga cha mtsogoleri wa dziko lino peter mutharika kuti anthu azipereka maganizo awo kuti zinthu ziziyenda bwino kaunda adati mutharika adalumbira kuti adzalemekeza malamulo a dziko lino omwe amapereka mwayi kwa amalawi wolankhula zakukhosi kwawo mafumu nawo ayamikira zomwe lidachita bungwe la pac pokonza msonkhanowo ndi zomwe nthumwi zidagwirizanazo paramount chief chikulamayembe wa ku rumphi adati nzopatsa chidwi kuti boma ndi mabungwe akugwirizana pankhani yofuna kudzetsa umodzi ndi mtendere pomanga mfundo zoyendetsera nkhani zikuluzikulu monga imeneyi apa ndiye kuti zinthu ziyenda kusiyana nkuti anthu azingopanga phokoso lopanda tsogolo lake tionera kwa akuluakuluwo kuti akonza zotani adatero chikulamayembe koma malinga ndi chinsinga nkhaniyi ingaphweke amalawi atalangizidwa bwino momwe ulamuliro wotere ungayendere iye adati nzomvetsa chisoni ndi kuchititsa mantha kuti amalawi ena akungotsatira maganizo a anzawo chifukwa chosamvetsetsa iyitu si nkhani yaingono koma pakuoneka kuti anthu ambiri sakumvetsetsa mutuwu mmalo mwake angotsatirapo poti walankhulayo amamukhulupirira mpofunikanso kumasulira bwinobwino tanthauzo la nkhaniyi nkuphunzitsa amalawi kuti azipereka maganizo awo enieni adatero chinsinga iye adati ulamuliro wotere ndi njira yoyendetsera boma yomwe dziko limagawidwa mmagawo omwe amayendetsa okha ntchito za chitukuko koma ali pansi pa ulamuliro wa mtsogoleri mmodzi iye adati kutengera pamgongo nkhani yotereyi kukhoza kubweretsa kusamvana ndi chisokonezo pazinthu zingonongono muganizire apa dzikoli ndi lalingono kwambiri komanso njira zobweretsa ndalama nzochepa pofuna kugawa mpofunika kuunika bwinobwino mmene malire akhalire komanso kuti chigawo chanji chitenga chiyani adatero chinsinga mkulu wa bungwe la pac robert phiri adati msonkhano womwe bungweli lidakonza udakambirana zina mwa nkhani zoterezi msonkhanowo udachitika lolemba ndi lachiwiri mumzinda wa blantyre ndipo udabweretsa pamodzi akuluakulu a mnthambi za boma mabungwe oyima paokha ndi otsata mbiri ya dziko lino phiri adati zomwe adakambirana akuluakuluwo azitulutsa ndi kuzipereka kuboma ndi mabungwe kuti zipereke chithunzithunzi cha mmene angagwirire ntchito ndi anthu pankhaniyi mmbuyomu kafukufuku yemwe nyuzipepala ya the nation idachita adasonyeza kuti aphungu 61 mwa 100 alionse adati nkhaniyi itapita ku nyumba ya malamulo akhoza kuikana nyuzipepalayi itafunsa aphungu 122 mwa 193 75 adati angakane mfundoyi aphungu 17 adali asanaganize ngati angaivomereze kapena ayi pomwe aphungu 30 adati angavomereze za mfundoyi mchaka cha 2006 mtsogoleri wa dziko lino peter mutharika adanena kuti boma la mtunduwu likhoza kuthandiza pachitukuko cha dziko lino uku kudali msonkhano wounikira malamulo a dziko lino koma masiku ano mutharika amatsutsana ndi maganizowa ati kugawa dziko pamsonkhanowo padali a zipani zosiyanasiyana mafumu azipembedzo mabungwe omwe si aboma ndipo amayendetsa zokambiranazo ndi sipikala wakale wa nyumba ya malamulo henry chimunthu banda ndi wachiwiri kwa mtsogoleri wakale wa dziko lino justin malewezi'"
            ]
          },
          "metadata": {
            "tags": []
          },
          "execution_count": 9
        }
      ]
    },
    {
      "cell_type": "code",
      "metadata": {
        "colab": {
          "base_uri": "https://localhost:8080/"
        },
        "id": "0aSd_0iqwzEu",
        "outputId": "d5fdeac1-49d3-4ef1-c9b2-9222c5f2a883"
      },
      "source": [
        "df.post[:].values"
      ],
      "execution_count": 10,
      "outputs": [
        {
          "output_type": "execute_result",
          "data": {
            "text/plain": [
              "array([' mwangonde khansala wachinyamata akamati achinyamata ndi atsogoleri a mawa ambiri amaganiza kuti izi ndi nkhambakamwa chabe koma achinyamata ena monga lusubilo mwangonde akukwaniritsa akupherezetsa mawuwa osati pongolota kuti adzakhala koma kutsogolera kumene chifukwa nthawi yawo yakwana dailes banda adacheza ndi mwangonde khansala wachinyama yemwe akuimira jumbo ward mumzinda wa mzuzu motere  chisale watuluka nkumangidwanso  sipakala waimitsa nyumba ya malamulo  pa wenela pasintha zedi ali ndi masomphenya mwangonde tikudziweni  ndine lusubilo mwangonde ndili ndi zaka 27 zakubadwa ndinabadwa mbanja la ana asanu ndipo ndine wachinayi kubadwa ndimachokera mmudzi mwa mwamalopa kwa paramount chief kyungu mboma la karonga sindili pabanja pakadalipano mbiri ya maphunziro anu ndi yotani maphunziro anga a pulaimale ndidachitira kusukula yapulaiveti ya viphya mumzinda wa mzuzu ndipo asekondale ndidachitira pa phwezi boys mboma la rumphi ndili ndi diploma ya accounting ndipo pakadalipano ndikupanga digiri komanso chartered accounting kusukulu ya malawi college of accountancy mca mudayamba bwanji zandale kuyambira ndili wachichepere zaka 12 ndakhala ndikukhala mumaudindo a utgogoleri ichi ndi china mwa zinthu zomwe zidandilimbikitsa kuti ndikhoza kudzapambana pazisankho koma chachikulu chomwe chidandichititsa kuti ndilowe ukhansala chidali chifukwa chakuti ndinkafuna kupereka mpata kwa anthu kuti azitha kuyankhula zakukhosi kwawo polimbikitsa demokalase ndi chitukuko ntchito mukugwira ndi zomwe munkayembekezera eya ndiponso ndinkayembekezera zambiri masomphenya anu ndi otani pandale ine ndine munthu wokhulupirira mulungu ndipo ndili ndi chikhulupiriro choti iye ndi amene adzandionetsere zomwe ndikuyera kuchita ndi tsogolo langa zinthu zina zomwe mumachita ndi chiyani pambali pa ukhansala ndikakhala sindikugwira ntchito yaukhansala ndimakhala ndikuchita bizinesi nthawi zina ndimakhala ndili kusukulu komwe ndikuchita maphuro anga a digiri kuonjezera pamenepo ndili ndi bungwe lomwe ndidayambitsa ndi anzanga ena la centre for participatory democracy lomwe limalimbikitsa demokalase zomwe mwakwanitsa ndi zotani ndathandiza kuti ntchito yopala misewu ya kudera la moyale itheke misewuyi yakhala nthawi yaitali osapalidwa ndidathandiziranso kuti ochita malonda ayambe kumanga mashopu anjerwa ndi kusiya kumangira matabwa kapena zigwagwa ndidakwanitsanso kukaimirira khonsolo ya mzuzu ku nyumba ya malamulo ndaonanso kuti ntchitoyi yandithandiza kusintha momwe ndimaonera zinthu komanso ndimakumana ndi anthu osiyanasiyana omwe amandiphunzitsa zinthu zambiri',\n",
              "       ' mcp siidakhutire ndi kalembera chipani cha malawi congress party mcp chati ngakhale ndime yachiwiri ya kalembera wa zisankho yayenda bwino poyerekeza ndi yoyamba mec iganizire zobwereranso mmaboma omwe yadutsamo kale kaamba koti anthu ambiri sadalembetse koma mkulu wa bungwe la malawi electoral commission mec jane ansah wati ndi wokhutira ndi mmene kalembera wayendera mgawo lachiwiri  chakwera akwanitse malonjezohrdc  masankhidwe a nduna autsa mapiri pa chigwa  malonjezo ayamba kuoneka ansah zinthu zayenda bwino kalembera wa mgawoli amachitikira mmaboma a dowa ntchisi mchinji ndi nkhotakota malingana ndi lipoti lomwe mec yatulutsa mwa anthu 1 048 080 omwe limayembekezera kulembetsa anthu 875 138 ndiwo alembetsa chiwerengerochi chikutanthauza kuti mwa anthu 100 aliwonse omwe amayenera kulembetsa 83 ndiwo alembetsa zomwe zachititsa mlembi wa mcp maurice munthali kupempha mec kuti ibwererenso mmabomawo pali chosekerera apa tiyenera kuyandikira kwenikweni ku chiwerengero cha anthu omwe tidayenera kuwalembetsa koma zomwe zachitika apa zikusonyeza poyera kuti anthu ambiri sadalembetse choncho mec iyenera kubwereranso mmabomawo adatero munthali mlembiyu adati mu ufulu wa demokalase ngakhale kusiya munthu mmodzi zimakhala zodandaulitsa mkulu wa bungwe la human rights defenders timothy mtambo akugwirizana ndi mcp kuti kalemberayo adzachitikenso kaamba koti munthu aliyense ali ndi ufulu wovota mkulu wa bungwe la national initiative for civic education nice trust ollen mwalubunju adati zinthu mgawo lachiwiri zasintha kwambiri poyerekeza ndi loyamba pali kusintha kwakukulu chifukwa mgawo loyamba timanena za anthu 73 pa anthu 100 aliwonse koma pano tikunena za anthu 83 pa anthu 100 aliwonse izi zikutanthauza kuti zinthu zikusintha adatero mwalubunju pazaganizo lobwereranso mmaboma momwe kalemberayu wachitika kale mwalubunju adati mpofunika kudikira kaye kuti mec iwone mmene zinthu zitayendere mmaboma ena malingana ndi kalata ya mec yomwe yasayinidwa ndi woyanganira zisankho sam alfandika mwa anthu onse omwe alembetsa mgawo lachiwiriri 462 925 ndi amayi ndipo 411 706 ndi abambo ansah adati zinthu zasintha kwambiri mgawoli poyerekeza ndi mmene zidaliri mgawo loyamba mmaboma a kasungu dedza ndi salima mavuto a akulu omwe takumana nawo ndi kuwonongeka kwa zipangizo zogwirira ntchito kusowa kwa dizilo wa ma generator athu komanso zipangizo zoyendera mphamvu ya dzuwa sizimagwira bwino ntchito moyenera potengera ndi mmene nyengo ilili mavutowa tawapezera njira zake moti kukubwera konseku anthu ayembekezere kalembera wabwino iye adatero ansah adati mec siidapange chiganizo pa nkhani yobwereranso mmaboma momwe yadutsamo kale',\n",
              "       'bungwe la manepo lapempha boma liganizire anthu achikulire pa mliri wa coronavirus bungwe loyanganira anthu achikulire la malawi network of older persons organisation manepo lapempha boma kuti liganizire anthu achikulire pomwe likuyika ndondomeko zokhudza nthenda ya covid-19 kudzera mu kalata yomwe bungwe la manepo latulutsa mkulu wa bungweli andrew kavala wati kusowa kwa malamulo okhazikika oteteza anthu achikulire kukupitilira kuyika anthuwa pa chiopsyezo cha nkhanza zosiyanasiyana iye wapemphanso boma ndi mabungwe kuti pakhale njira zabwino zofalitsira mauthenga a covid-19 kuti nawo anthu achikulire afikiridwe ndi mauthenga okhudza njira zabwino zopewera mliriwu mfundo za kuno ku malawi zimasala anthu achikulire ndipo ichi ndi chiopsezo chachikulu ku matenda a covid-19 kwa anthu amenewa anatero a kavala iwo apempha boma kuti liyike malamulo amphamvu oteteza anthu achikulire kwa anthu omwe amawaphwanyira ufulu ',\n",
              "       ...,\n",
              "       ' mawu supports non-fiction writers the malawi writer union mawu has thrown its weight behind the establishment of a separate writers body the malawi union of academic and non-fiction authors muana muana is the third body of writers after mawu and the poetry association of malawi pam  chisale watuluka nkumangidwanso  sipakala waimitsa nyumba ya malamulo  pa wenela pasintha zedi sambalikagwa mvona with support from the norwegian non-fiction writers and translators association the new body was established to promote non-fiction and academic research and publication after noticing that mawu and pam were mainly promoting fiction writing as mawu we are happy with the establishment of the new body in fact it did not come as a surprise as we have been part of a series meetings that have given birth to muana explained mawu president sambalikagwa mvona he said despite that it has affected the mawu membership he is happy as the establishment of a new body is a step in the right direction we have lost a few of our members but in the positive because they have formed an equally important body this is good for the nation and we are empowering others to grow wings he said muana is headed by max iphani who is book editor at the malawi institute of education some of muanas goals include ensuring that there is sound professional and legal relationships between authors and publishers assist authors in publishing contracts as well as striving to build capacity of non-fiction and academic authors and lobby for increased numbers of malawian textbooks in institutions of learning',\n",
              "       ' tame mwawa phwete ndiye kudya kwake sewero la tikuferanji ndi limodzi mwa masewero omwe amapereka phunziro kwa anthu pazochitika mmoyo wa tsiku ndi tsiku komanso ndi msangulutso kwa anthu ambiri seweroli limaonetsedwa pakanema komanso kumveka pawailesi ya mbc steven pembamoyo adachita chidwi ndi mmodzi mwa omwe amachita nawo seweroli tame mwawa yemwe ambiri amamudziwa kuti chiphwanya museweromo ndipo adacheza naye motere  pa wenela pasintha zedi  anatchereza  tidakumana ku sukulu ku chiradzulu mwawa ndidabadwa wazisudzo ndikudziwe mnzanga ndine tame mwawa ndimakhala ku machinjiri ku blantyre koma kwathu nku chiradzulu mmudzi mwa kambalame t/a mpama udabadwa mchaka chanji ndidabadwa pa 26 october 1977 ndipo ndine woyamba mbanja la ana 7 amuna 5 ndi asungwana awiri mbiri yako pazisudzo ndi yotani ndikhoza kunena kuti ndidabadwa wazisudzo kale abale anga amandiuza kuti ndili wamngono ndikadziongola kapena ndikamalira anthu amandiunjirira nkumaseka ndipo makolo anga adadziwiratu kuti ndidzakhala msangalatsi kusukulu anzanga ngakhalenso aphunzitsi ankachita kudziwa kuti tame wabwera zilango ndiye zidali zosatha nthawi zina ndinkalembedwa pa anthu olongolola koma pomwe sindidapite kusukulu nkomwe pachikondwerero chokumbukira ufulu wa dziko ndinkapanga nawo zisudzo ndipo malipiro ake adali fanta ndi mpunga wa nyama ndinkapanganso sewero la ambuye yesu udapezeka bwanji musewero la tikuferanji nthawi ina yake ankakajambula seweroli pafupi ndi kwathu ndiye penapake pamafunika singanga koma munthu amasowa tsono ine ndidadzipereka kuti ndiyesere nkuchita bwino basi kulowa mseweroli kudali kumeneko panthawi imeneyo ndidadziwana ndi akuluakulu ena azisudzo monga frank yalu nginde yemwe adanditenga kukalowa gulu lake la zisudzo lotchedwa kasupe arts theatre pano ndidadziwika kwambiri moti ndimapezeka mmagulu azisudzo osiyanasiyana monga kwathu komanso mumafilimi osiyanasiyana imodzi mwa mafilimu omwe ndilimo ndi ya chinganingani yomwe ikuoneka pakanema ya malawi komanso ndidayambitsa nawo pologalamu ya phwete pa kanema yomweyi pawayilesi ndimapanga nawo sewero la sabata ino dzina la chiphwanya lidayamba bwanji kumudzi kwathu ku chiradzulu kuli mkulu wina dzina lake chiphwanya yemwe ndi wolongolola komanso wosachedwa kupsa mtima ndiye nditaona malo omwe ndimapatsidwa mmasewero ambiri ndidaona kuti dzinali ndi londiyenera nzoona kuti pakhomo pako udadzala zikho zambiri eya ndimadziwiratu mbali zomwe anzanga amakonda kundipatsa pazisudzo motero ndidadzala zikho zambiri komanso mikanda pakhomo panga ili mbweee moti anthu ena amaona ngati ndimapangadi zausinganga',\n",
              "       ' pac iunguza za boma la chifedulo nthumwi zomwe zimakumana mumzinda wa blantyre kukambirana za nkhani yakuti zigawo za dziko lino zizikhala ndi mtsogoleri wakewake pansi pa mtsogoleri wa dziko zati nkhaniyi kuti iyende bwino mpofunika kusintha malamulo ena mfundoyi ikugwirizana ndi zomwe adanena mphunzitsi wa za ndale kusukulu ya ukachenjede ya chancellor college blessings chinsinga kuti popanda kuunika malamulo nkhaniyi ikhoza kudzetsa chisokonezo  chisale watuluka nkumangidwanso  sipakala waimitsa nyumba ya malamulo  chakwera akwanitse malonjezohrdc choyamba tiunike kuti malamulo athu akutinji chifukwa mukhoza kukhala ndi zigawo zodziyimira pazokha zomwe zingamakolanenso chifukwa cha malamulo omwe mukutsata adatero chinsinga msonkhanowo udakonzedwa ndi bungwe la mipingo la public affairs committee pac ndipo cholinga chake chidali kuunika chomwe chidayambitsa nkhaniyi ndi kukambirana momwe ingayendere malinga ndi wapampando wa bungwe la pac mbusa felix chingota nthumwi za kumsonkhanowo zidapeza kuti nkhaniyo idachokera pakusamvetsetsana pa momwe zinthu zina zikuyendera nthumwi zidapeza kuti nkhani monga kusankhana kochokera kukondera pakasankhidwe ka maudindo kusiyanitsa pakagawidwe ka zinthu ndi kupondereza zitukuko zomwe atsogoleri ena adayamba ndi zina mwa zinthu zomwe anthu akuona kuti ndi bwino aziyendetsa okha zinthu adatero chingota mlangizi wa mtsogoleri wa dziko lino pankhani za mgwirizano wa mdziko muno vuwa kaunda adati ndi cholinga cha mtsogoleri wa dziko lino peter mutharika kuti anthu azipereka maganizo awo kuti zinthu ziziyenda bwino kaunda adati mutharika adalumbira kuti adzalemekeza malamulo a dziko lino omwe amapereka mwayi kwa amalawi wolankhula zakukhosi kwawo mafumu nawo ayamikira zomwe lidachita bungwe la pac pokonza msonkhanowo ndi zomwe nthumwi zidagwirizanazo paramount chief chikulamayembe wa ku rumphi adati nzopatsa chidwi kuti boma ndi mabungwe akugwirizana pankhani yofuna kudzetsa umodzi ndi mtendere pomanga mfundo zoyendetsera nkhani zikuluzikulu monga imeneyi apa ndiye kuti zinthu ziyenda kusiyana nkuti anthu azingopanga phokoso lopanda tsogolo lake tionera kwa akuluakuluwo kuti akonza zotani adatero chikulamayembe koma malinga ndi chinsinga nkhaniyi ingaphweke amalawi atalangizidwa bwino momwe ulamuliro wotere ungayendere iye adati nzomvetsa chisoni ndi kuchititsa mantha kuti amalawi ena akungotsatira maganizo a anzawo chifukwa chosamvetsetsa iyitu si nkhani yaingono koma pakuoneka kuti anthu ambiri sakumvetsetsa mutuwu mmalo mwake angotsatirapo poti walankhulayo amamukhulupirira mpofunikanso kumasulira bwinobwino tanthauzo la nkhaniyi nkuphunzitsa amalawi kuti azipereka maganizo awo enieni adatero chinsinga iye adati ulamuliro wotere ndi njira yoyendetsera boma yomwe dziko limagawidwa mmagawo omwe amayendetsa okha ntchito za chitukuko koma ali pansi pa ulamuliro wa mtsogoleri mmodzi iye adati kutengera pamgongo nkhani yotereyi kukhoza kubweretsa kusamvana ndi chisokonezo pazinthu zingonongono muganizire apa dzikoli ndi lalingono kwambiri komanso njira zobweretsa ndalama nzochepa pofuna kugawa mpofunika kuunika bwinobwino mmene malire akhalire komanso kuti chigawo chanji chitenga chiyani adatero chinsinga mkulu wa bungwe la pac robert phiri adati msonkhano womwe bungweli lidakonza udakambirana zina mwa nkhani zoterezi msonkhanowo udachitika lolemba ndi lachiwiri mumzinda wa blantyre ndipo udabweretsa pamodzi akuluakulu a mnthambi za boma mabungwe oyima paokha ndi otsata mbiri ya dziko lino phiri adati zomwe adakambirana akuluakuluwo azitulutsa ndi kuzipereka kuboma ndi mabungwe kuti zipereke chithunzithunzi cha mmene angagwirire ntchito ndi anthu pankhaniyi mmbuyomu kafukufuku yemwe nyuzipepala ya the nation idachita adasonyeza kuti aphungu 61 mwa 100 alionse adati nkhaniyi itapita ku nyumba ya malamulo akhoza kuikana nyuzipepalayi itafunsa aphungu 122 mwa 193 75 adati angakane mfundoyi aphungu 17 adali asanaganize ngati angaivomereze kapena ayi pomwe aphungu 30 adati angavomereze za mfundoyi mchaka cha 2006 mtsogoleri wa dziko lino peter mutharika adanena kuti boma la mtunduwu likhoza kuthandiza pachitukuko cha dziko lino uku kudali msonkhano wounikira malamulo a dziko lino koma masiku ano mutharika amatsutsana ndi maganizowa ati kugawa dziko pamsonkhanowo padali a zipani zosiyanasiyana mafumu azipembedzo mabungwe omwe si aboma ndipo amayendetsa zokambiranazo ndi sipikala wakale wa nyumba ya malamulo henry chimunthu banda ndi wachiwiri kwa mtsogoleri wakale wa dziko lino justin malewezi'],\n",
              "      dtype=object)"
            ]
          },
          "metadata": {
            "tags": []
          },
          "execution_count": 10
        }
      ]
    },
    {
      "cell_type": "code",
      "metadata": {
        "colab": {
          "base_uri": "https://localhost:8080/"
        },
        "id": "nk63EZdUwXlR",
        "outputId": "967d6c85-da9b-474e-b66d-dd0043e7041e"
      },
      "source": [
        "max_fatures = 5000\n",
        "\n",
        "# Max number of words in each complaint.\n",
        "\n",
        "\n",
        "#tokenizer = Tokenizer(num_words=max_fatures, split=' ')\n",
        "tokenizer = Tokenizer(num_words=max_fatures, split=' ', filters='!\"#$%&()*+,-./:;<=>?@[\\]^_`{|}~0123456789', lower=True)\n",
        "tokenizer.fit_on_texts(df['post'].values)\n",
        "X_allw = list(tokenizer.texts_to_sequences(df.post[:].values,))\n",
        "X_all = list(pad_sequences(X_allw,dtype='float'))\n",
        "print('Found %s unique tokens.' % len(X_all))"
      ],
      "execution_count": 11,
      "outputs": [
        {
          "output_type": "stream",
          "text": [
            "Found 1436 unique tokens.\n"
          ],
          "name": "stdout"
        }
      ]
    },
    {
      "cell_type": "code",
      "metadata": {
        "id": "PMr8Vt7kF57G"
      },
      "source": [
        "#pad_lines=list(pad_sequences(lines,dtype='float',value=0.0,padding=\"post\"))"
      ],
      "execution_count": 12,
      "outputs": []
    },
    {
      "cell_type": "code",
      "metadata": {
        "id": "GTCXu4ePCQIE"
      },
      "source": [
        "X_all=[list(i) for i in X_all ]"
      ],
      "execution_count": 13,
      "outputs": []
    },
    {
      "cell_type": "code",
      "metadata": {
        "colab": {
          "base_uri": "https://localhost:8080/"
        },
        "id": "WU7pEsqnGxm1",
        "outputId": "cbfd76e8-4839-4efd-96e6-e71fefd45d3a"
      },
      "source": [
        "type(X_all)"
      ],
      "execution_count": 14,
      "outputs": [
        {
          "output_type": "execute_result",
          "data": {
            "text/plain": [
              "list"
            ]
          },
          "metadata": {
            "tags": []
          },
          "execution_count": 14
        }
      ]
    },
    {
      "cell_type": "code",
      "metadata": {
        "id": "zJgdt5-f9l5X"
      },
      "source": [
        "xtestp=0.95\n",
        "divi=int(len(X_all)*xtestp)\n",
        "X=X_all[:divi]\n",
        "X_test=X_all[divi:]\n",
        "yall=list(df.label_index)\n",
        "y=yall[:divi]\n",
        "y_test=yall[divi:]"
      ],
      "execution_count": 15,
      "outputs": []
    },
    {
      "cell_type": "code",
      "metadata": {
        "colab": {
          "base_uri": "https://localhost:8080/"
        },
        "id": "6vKFICctwlmX",
        "outputId": "2f7700b1-f91f-42af-da2f-beab1a5da0b3"
      },
      "source": [
        "len(X[0])"
      ],
      "execution_count": 16,
      "outputs": [
        {
          "output_type": "execute_result",
          "data": {
            "text/plain": [
              "767"
            ]
          },
          "metadata": {
            "tags": []
          },
          "execution_count": 16
        }
      ]
    },
    {
      "cell_type": "code",
      "metadata": {
        "colab": {
          "base_uri": "https://localhost:8080/"
        },
        "id": "SVZGbQD71Iiv",
        "outputId": "4c3fd6ef-21cb-4dba-f410-3d6cce8addbc"
      },
      "source": [
        "type(X[0])"
      ],
      "execution_count": 17,
      "outputs": [
        {
          "output_type": "execute_result",
          "data": {
            "text/plain": [
              "list"
            ]
          },
          "metadata": {
            "tags": []
          },
          "execution_count": 17
        }
      ]
    },
    {
      "cell_type": "code",
      "metadata": {
        "id": "Y66egjuhEZQN"
      },
      "source": [
        "from keras.layers import InputLayer, Dense, LSTM, Input, Dropout,Embedding, Flatten\n",
        "from keras.models import Sequential, Model\n",
        "from keras.optimizers import SGD,Adam,Adamax,Nadam,Ftrl,Adadelta,Adagrad,Nadam\n",
        "import tensorflow as tf\n",
        "from tensorflow.keras.callbacks import ModelCheckpoint\n",
        "from keras.backend import clear_session\n",
        "from tensorflow.keras.losses import mean_absolute_percentage_error, huber,kld\n",
        "\n",
        "from keras.preprocessing.sequence import pad_sequences"
      ],
      "execution_count": 18,
      "outputs": []
    },
    {
      "cell_type": "code",
      "metadata": {
        "id": "BhHYxCHIJZ1b"
      },
      "source": [
        "fname=\"_model_1_\""
      ],
      "execution_count": 19,
      "outputs": []
    },
    {
      "cell_type": "code",
      "metadata": {
        "colab": {
          "base_uri": "https://localhost:8080/"
        },
        "id": "1FrIWOR1A8Gw",
        "outputId": "b99e6c1d-1392-464b-93ad-cef929f7ea5b"
      },
      "source": [
        "clear_session()\n",
        "\n",
        "\n",
        "\n",
        "input_size=5000\n",
        "input_len=len(X[0])\n",
        "print(input_len)\n",
        "output_size=20\n",
        "drop_frac0=0.0 \n",
        "drop_frac1=0.0\n",
        "\n",
        "\n",
        "\n",
        "input1=Input(shape=(input_len,),)\n",
        "embed=Embedding(input_size,8,input_length=input_len,mask_zero=True,trainable=True)(input1)\n",
        "lstm1=LSTM(400,dropout=0.91,return_sequences=False)(embed)\n",
        "#flatt=Flatten()(lstm1)\n",
        "\n",
        "\n",
        "\n",
        "\n",
        "\n",
        "\n",
        "pred=Dense(output_size,activation=\"softmax\")(lstm1)\n",
        "\n",
        "model = Model(inputs=input1, outputs=pred)\n",
        "\n",
        "opt = tf.keras.optimizers.Adam(learning_rate=0.0003)\n",
        "\n",
        "\n",
        "\n",
        "model.compile(loss='sparse_categorical_crossentropy',\n",
        "    optimizer=opt,\n",
        "    metrics=[\"accuracy\"])"
      ],
      "execution_count": 20,
      "outputs": [
        {
          "output_type": "stream",
          "text": [
            "767\n"
          ],
          "name": "stdout"
        }
      ]
    },
    {
      "cell_type": "code",
      "metadata": {
        "colab": {
          "base_uri": "https://localhost:8080/"
        },
        "id": "h3YuhrKQKocK",
        "outputId": "f5252ce8-e282-4605-a2e3-2504eb77487a"
      },
      "source": [
        "model.summary()"
      ],
      "execution_count": 21,
      "outputs": [
        {
          "output_type": "stream",
          "text": [
            "Model: \"model\"\n",
            "_________________________________________________________________\n",
            "Layer (type)                 Output Shape              Param #   \n",
            "=================================================================\n",
            "input_1 (InputLayer)         [(None, 767)]             0         \n",
            "_________________________________________________________________\n",
            "embedding (Embedding)        (None, 767, 8)            40000     \n",
            "_________________________________________________________________\n",
            "lstm (LSTM)                  (None, 400)               654400    \n",
            "_________________________________________________________________\n",
            "dense (Dense)                (None, 20)                8020      \n",
            "=================================================================\n",
            "Total params: 702,420\n",
            "Trainable params: 702,420\n",
            "Non-trainable params: 0\n",
            "_________________________________________________________________\n"
          ],
          "name": "stdout"
        }
      ]
    },
    {
      "cell_type": "code",
      "metadata": {
        "id": "jDA1yOVREuFA"
      },
      "source": [
        "callbacks = [#callback_LR,\n",
        "       \n",
        "        ModelCheckpoint(filepath=fname+\"_{loss:.5f}_{val_accuracy:.5f}_.hdf5\", monitor='val_accuracy',\n",
        "                        verbose=2, save_best_only=True, mode='max')]"
      ],
      "execution_count": 22,
      "outputs": []
    },
    {
      "cell_type": "code",
      "metadata": {
        "colab": {
          "base_uri": "https://localhost:8080/"
        },
        "id": "301Bt5haEpUZ",
        "outputId": "9be95f96-4250-4d62-ca2d-e181263efa70"
      },
      "source": [
        "history = model.fit( X,y,validation_data=(X_test,y_test), \n",
        "                        epochs=150, \n",
        "                        batch_size=32,\n",
        "                        \n",
        "                        verbose=1,\n",
        "                        callbacks=callbacks,\n",
        "                              \n",
        "                              )"
      ],
      "execution_count": null,
      "outputs": [
        {
          "output_type": "stream",
          "text": [
            "Epoch 1/150\n",
            "39/43 [==========================>...] - ETA: 5s - loss: 2.9345 - accuracy: 0.1676"
          ],
          "name": "stdout"
        }
      ]
    }
  ]
}