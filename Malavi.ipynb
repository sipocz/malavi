{
  "nbformat": 4,
  "nbformat_minor": 0,
  "metadata": {
    "colab": {
      "name": "Malavi.ipynb",
      "provenance": [],
      "authorship_tag": "ABX9TyMjVfQ+p2TMGO6SJpHAUeWJ",
      "include_colab_link": true
    },
    "kernelspec": {
      "display_name": "Python 3",
      "name": "python3"
    },
    "language_info": {
      "name": "python"
    }
  },
  "cells": [
    {
      "cell_type": "markdown",
      "metadata": {
        "id": "view-in-github",
        "colab_type": "text"
      },
      "source": [
        "<a href=\"https://colab.research.google.com/github/sipocz/malavi/blob/main/Malavi.ipynb\" target=\"_parent\"><img src=\"https://colab.research.google.com/assets/colab-badge.svg\" alt=\"Open In Colab\"/></a>"
      ]
    },
    {
      "cell_type": "code",
      "metadata": {
        "colab": {
          "base_uri": "https://localhost:8080/"
        },
        "id": "qNp6Kvx_FAyP",
        "outputId": "7d07d8f7-efa9-4e80-8884-808b06d3928f"
      },
      "source": [
        "!rm Train.csv\n",
        "fname=\"https://github.com/sipocz/malavi/raw/ccefa7562b0a115d207a02f2cf2754406870ef52/Train.csv\"\n",
        "!wget https://github.com/sipocz/malavi/raw/ccefa7562b0a115d207a02f2cf2754406870ef52/Train.csv"
      ],
      "execution_count": null,
      "outputs": [
        {
          "output_type": "stream",
          "text": [
            "--2021-03-30 18:29:59--  https://github.com/sipocz/malavi/raw/ccefa7562b0a115d207a02f2cf2754406870ef52/Train.csv\n",
            "Resolving github.com (github.com)... 140.82.113.3\n",
            "Connecting to github.com (github.com)|140.82.113.3|:443... connected.\n",
            "HTTP request sent, awaiting response... 302 Found\n",
            "Location: https://raw.githubusercontent.com/sipocz/malavi/ccefa7562b0a115d207a02f2cf2754406870ef52/Train.csv [following]\n",
            "--2021-03-30 18:30:00--  https://raw.githubusercontent.com/sipocz/malavi/ccefa7562b0a115d207a02f2cf2754406870ef52/Train.csv\n",
            "Resolving raw.githubusercontent.com (raw.githubusercontent.com)... 185.199.108.133, 185.199.109.133, 185.199.110.133, ...\n",
            "Connecting to raw.githubusercontent.com (raw.githubusercontent.com)|185.199.108.133|:443... connected.\n",
            "HTTP request sent, awaiting response... 200 OK\n",
            "Length: 3158546 (3.0M) [text/plain]\n",
            "Saving to: ‘Train.csv’\n",
            "\n",
            "Train.csv           100%[===================>]   3.01M  --.-KB/s    in 0.1s    \n",
            "\n",
            "2021-03-30 18:30:01 (28.3 MB/s) - ‘Train.csv’ saved [3158546/3158546]\n",
            "\n"
          ],
          "name": "stdout"
        }
      ]
    },
    {
      "cell_type": "code",
      "metadata": {
        "colab": {
          "base_uri": "https://localhost:8080/"
        },
        "id": "9tw-bYimF0jG",
        "outputId": "a45120b4-ebe1-478f-9662-cd8fc1378155"
      },
      "source": [
        "!head Train.csv"
      ],
      "execution_count": null,
      "outputs": [
        {
          "output_type": "stream",
          "text": [
            "ID,Text,Label\n",
            "ID_AASHwXxg,\" Mwangonde: Khansala wachinyamata Akamati achinyamata ndi atsogoleri a mawa, ambiri amaganiza kuti izi ndi nkhambakamwa chabe. Koma achinyamata ena, monga Lusubilo Mwangonde, akukwaniritsa akupherezetsa mawuwa osati pongolota kuti adzakhala, koma kutsogolera kumene chifukwa nthawi yawo yakwana. DAILES BANDA adacheza ndi Mwangonde, khansala wachinyama, yemwe akuimira Jumbo Ward mumzinda wa Mzuzu, motere:  Chisale watuluka nkumangidwanso  Sipakala waimitsa Nyumba ya Malamulo  Pa Wenela pasintha zedi Ali ndi masomphenya: Mwangonde Tikudziweni  Ndine Lusubilo Mwangonde, ndili ndi zaka 27 zakubadwa. Ndinabadwa mbanja la ana asanu ndipo ndine wachinayi kubadwa. Ndimachokera mmudzi mwa Mwamalopa, kwa Paramount Chief Kyungu mboma la Karonga. Sindili pabanja pakadalipano.\n",
            " Mbiri ya maphunziro anu ndi yotani? Maphunziro anga a pulaimale ndidachitira kusukula yapulaiveti ya Viphya mumzinda wa Mzuzu ndipo asekondale ndidachitira pa Phwezi Boys mboma la Rumphi. Ndili ndi diploma ya Accounting ndipo pakadalipano ndikupanga digiri komanso Chartered Accounting kusukulu ya Malawi College of Accountancy (MCA).\n",
            " Mudayamba bwanji zandale? Kuyambira ndili wachichepere, zaka 12, ndakhala ndikukhala mumaudindo a utgogoleri. Ichi ndi china mwa zinthu zomwe zidandilimbikitsa kuti ndikhoza kudzapambana pazisankho. Koma chachikulu chomwe chidandichititsa kuti ndilowe ukhansala chidali chifukwa chakuti ndinkafuna kupereka mpata kwa anthu kuti azitha kuyankhula zakukhosi kwawo polimbikitsa demokalase ndi chitukuko.\n",
            " Ntchito mukugwira ndi zomwe munkayembekezera? Eya, ndiponso ndinkayembekezera zambiri.\n",
            " Masomphenya anu ndi otani pandale? Ine ndine munthu wokhulupirira Mulungu ndipo ndili ndi chikhulupiriro choti Iye ndi amene adzandionetsere zomwe ndikuyera kuchita ndi tsogolo langa.\n",
            " Zinthu zina zomwe mumachita ndi chiyani pambali pa ukhansala? Ndikakhala sindikugwira ntchito yaukhansala ndimakhala ndikuchita bizinesi, nthawi zina ndimakhala ndili kusukulu komwe ndikuchita maphuro anga a digiri. Kuonjezera pamenepo ndili ndi bungwe lomwe ndidayambitsa ndi anzanga ena la Centre for Participatory Democracy lomwe limalimbikitsa demokalase.\n",
            " Zomwe mwakwanitsa ndi zotani? Ndathandiza kuti ntchito yopala misewu ya kudera la Moyale itheke. Misewuyi yakhala nthawi yaitali osapalidwa. Ndidathandiziranso kuti ochita malonda ayambe kumanga mashopu anjerwa ndi kusiya kumangira matabwa kapena zigwagwa. Ndidakwanitsanso kukaimirira khonsolo ya Mzuzu ku Nyumba ya Malamulo. Ndaonanso kuti ntchitoyi yandithandiza kusintha momwe ndimaonera zinthu komanso ndimakumana ndi anthu osiyanasiyana omwe amandiphunzitsa zinthu zambiri.\n",
            "\",POLITICS\n",
            "ID_AGoFySzn,\" MCP siidakhutire ndi kalembera Chipani cha Malawi Congress Party (MCP) chati ngakhale ndime yachiwiri ya kalembera wa zisankho yayenda bwino poyerekeza ndi yoyamba, MEC iganizire zobwereranso mmaboma omwe yadutsamo kale kaamba koti anthu ambiri sadalembetse.\n"
          ],
          "name": "stdout"
        }
      ]
    },
    {
      "cell_type": "code",
      "metadata": {
        "id": "cUvPET9xFeR-"
      },
      "source": [
        "import pandas as pd\n",
        "df=pd.read_csv(\"Train.csv\",sep=\",\")"
      ],
      "execution_count": null,
      "outputs": []
    },
    {
      "cell_type": "code",
      "metadata": {
        "colab": {
          "base_uri": "https://localhost:8080/"
        },
        "id": "yaD-kAkzGvvt",
        "outputId": "9c9e8d9d-8107-4329-b5fe-1e6a4aa604a8"
      },
      "source": [
        "len(df)"
      ],
      "execution_count": null,
      "outputs": [
        {
          "output_type": "execute_result",
          "data": {
            "text/plain": [
              "1436"
            ]
          },
          "metadata": {
            "tags": []
          },
          "execution_count": 5
        }
      ]
    },
    {
      "cell_type": "code",
      "metadata": {
        "id": "-H22jG0odaeD"
      },
      "source": [
        "labels=list(set(df.Label))"
      ],
      "execution_count": 30,
      "outputs": []
    },
    {
      "cell_type": "code",
      "metadata": {
        "colab": {
          "base_uri": "https://localhost:8080/"
        },
        "id": "lHJbRboDdhLa",
        "outputId": "d7f97c4a-5294-4544-a499-3443fac84d45"
      },
      "source": [
        "labels"
      ],
      "execution_count": 31,
      "outputs": [
        {
          "output_type": "execute_result",
          "data": {
            "text/plain": [
              "['POLITICS',\n",
              " 'ARTS AND CRAFTS',\n",
              " 'LAW/ORDER',\n",
              " 'HEALTH',\n",
              " 'SOCIAL ISSUES',\n",
              " 'SOCIAL',\n",
              " 'SPORTS',\n",
              " 'MUSIC',\n",
              " 'FARMING',\n",
              " 'WILDLIFE/ENVIRONMENT',\n",
              " 'RELATIONSHIPS',\n",
              " 'EDUCATION',\n",
              " 'FLOODING',\n",
              " 'OPINION/ESSAY',\n",
              " 'ECONOMY',\n",
              " 'TRANSPORT',\n",
              " 'LOCALCHIEFS',\n",
              " 'CULTURE',\n",
              " 'WITCHCRAFT',\n",
              " 'RELIGION']"
            ]
          },
          "metadata": {
            "tags": []
          },
          "execution_count": 31
        }
      ]
    },
    {
      "cell_type": "code",
      "metadata": {
        "id": "ADrN8c_zd8GX"
      },
      "source": [
        "label_index=[]\n",
        "for i in list(df.Label):\n",
        "    label_index.append(labels.index(i))"
      ],
      "execution_count": 32,
      "outputs": []
    },
    {
      "cell_type": "code",
      "metadata": {
        "id": "4eJ2akNZeuO3"
      },
      "source": [
        "df[\"label_index\"]=label_index"
      ],
      "execution_count": 34,
      "outputs": []
    },
    {
      "cell_type": "code",
      "metadata": {
        "colab": {
          "base_uri": "https://localhost:8080/",
          "height": 204
        },
        "id": "517fmpKFe20s",
        "outputId": "ef91760f-4f99-47c4-a6be-24c425ec2971"
      },
      "source": [
        "df.head()"
      ],
      "execution_count": 35,
      "outputs": [
        {
          "output_type": "execute_result",
          "data": {
            "text/html": [
              "<div>\n",
              "<style scoped>\n",
              "    .dataframe tbody tr th:only-of-type {\n",
              "        vertical-align: middle;\n",
              "    }\n",
              "\n",
              "    .dataframe tbody tr th {\n",
              "        vertical-align: top;\n",
              "    }\n",
              "\n",
              "    .dataframe thead th {\n",
              "        text-align: right;\n",
              "    }\n",
              "</style>\n",
              "<table border=\"1\" class=\"dataframe\">\n",
              "  <thead>\n",
              "    <tr style=\"text-align: right;\">\n",
              "      <th></th>\n",
              "      <th>ID</th>\n",
              "      <th>Text</th>\n",
              "      <th>Label</th>\n",
              "      <th>label_index</th>\n",
              "    </tr>\n",
              "  </thead>\n",
              "  <tbody>\n",
              "    <tr>\n",
              "      <th>0</th>\n",
              "      <td>ID_AASHwXxg</td>\n",
              "      <td>Mwangonde: Khansala wachinyamata Akamati achi...</td>\n",
              "      <td>POLITICS</td>\n",
              "      <td>0</td>\n",
              "    </tr>\n",
              "    <tr>\n",
              "      <th>1</th>\n",
              "      <td>ID_AGoFySzn</td>\n",
              "      <td>MCP siidakhutire ndi kalembera Chipani cha Ma...</td>\n",
              "      <td>POLITICS</td>\n",
              "      <td>0</td>\n",
              "    </tr>\n",
              "    <tr>\n",
              "      <th>2</th>\n",
              "      <td>ID_AGrrkBGP</td>\n",
              "      <td>Bungwe la MANEPO Lapempha Boma Liganizire Anth...</td>\n",
              "      <td>HEALTH</td>\n",
              "      <td>3</td>\n",
              "    </tr>\n",
              "    <tr>\n",
              "      <th>3</th>\n",
              "      <td>ID_AIJeigeG</td>\n",
              "      <td>Ndale zogawanitsa miyambo zanyanya Si zachile...</td>\n",
              "      <td>POLITICS</td>\n",
              "      <td>0</td>\n",
              "    </tr>\n",
              "    <tr>\n",
              "      <th>4</th>\n",
              "      <td>ID_APMprMbV</td>\n",
              "      <td>Nanga wapolisi ataphofomoka? Masiku ano sichi...</td>\n",
              "      <td>LAW/ORDER</td>\n",
              "      <td>2</td>\n",
              "    </tr>\n",
              "  </tbody>\n",
              "</table>\n",
              "</div>"
            ],
            "text/plain": [
              "            ID  ... label_index\n",
              "0  ID_AASHwXxg  ...           0\n",
              "1  ID_AGoFySzn  ...           0\n",
              "2  ID_AGrrkBGP  ...           3\n",
              "3  ID_AIJeigeG  ...           0\n",
              "4  ID_APMprMbV  ...           2\n",
              "\n",
              "[5 rows x 4 columns]"
            ]
          },
          "metadata": {
            "tags": []
          },
          "execution_count": 35
        }
      ]
    },
    {
      "cell_type": "code",
      "metadata": {
        "id": "qhno5Qy7HKrW"
      },
      "source": [
        "s1=set()\n",
        "for i in range(len(df)):\n",
        "    s1=s1.union(set(df.Text[i].replace(\",\",\"\").replace(\".\",\"\").upper().split()))\n",
        "words=list(s1)"
      ],
      "execution_count": null,
      "outputs": []
    },
    {
      "cell_type": "code",
      "metadata": {
        "id": "EACu3ZgLL5Yz"
      },
      "source": [
        "words.sort()"
      ],
      "execution_count": null,
      "outputs": []
    },
    {
      "cell_type": "code",
      "metadata": {
        "colab": {
          "base_uri": "https://localhost:8080/"
        },
        "id": "h6aVcKkxMiPs",
        "outputId": "433e112a-0475-4f69-ed01-2e0d35f055dd"
      },
      "source": [
        "def findA():\n",
        "    for inx,i in enumerate(words):\n",
        "        if i==\"A\":\n",
        "            print(inx)\n",
        "            return(inx)\n",
        "words=words[findA():]"
      ],
      "execution_count": null,
      "outputs": [
        {
          "output_type": "stream",
          "text": [
            "1353\n"
          ],
          "name": "stdout"
        }
      ]
    },
    {
      "cell_type": "code",
      "metadata": {
        "colab": {
          "background_save": true
        },
        "id": "EVCAaC-jRIpB"
      },
      "source": [
        "lines=[]\n",
        "for i in range(len(df)):\n",
        "    s1=set(df.Text[i].replace(\",\",\"\").replace(\".\",\"\").upper().split())\n",
        "    line=[]\n",
        "    for w in s1:\n",
        "        if w in words:\n",
        "            line.append(words.index(w))\n",
        "    lines.append(line)"
      ],
      "execution_count": null,
      "outputs": []
    },
    {
      "cell_type": "code",
      "metadata": {
        "colab": {
          "background_save": true
        },
        "id": "VyFIYRlgVn0x",
        "outputId": "f831c038-b83f-495c-8659-0f91c42fd39d"
      },
      "source": [
        "len(lines)"
      ],
      "execution_count": null,
      "outputs": [
        {
          "output_type": "execute_result",
          "data": {
            "text/plain": [
              "1436"
            ]
          },
          "metadata": {
            "tags": []
          },
          "execution_count": 0
        }
      ]
    },
    {
      "cell_type": "code",
      "metadata": {
        "id": "5tVYF3B3WE59"
      },
      "source": [
        "ritka=[]\n",
        "\n",
        "for line in lines:\n",
        "    ritkaline=[0 for i in range(len(words))]\n",
        "    for pos in line:\n",
        "        ritkaline[pos]=1\n",
        "    ritka.append(ritkaline)"
      ],
      "execution_count": 16,
      "outputs": []
    },
    {
      "cell_type": "code",
      "metadata": {
        "colab": {
          "base_uri": "https://localhost:8080/"
        },
        "id": "OQsilWjacdtH",
        "outputId": "60838f6f-d1c6-442b-d8b0-b467448dc22a"
      },
      "source": [
        "!pip install tensorflow-addons"
      ],
      "execution_count": 19,
      "outputs": [
        {
          "output_type": "stream",
          "text": [
            "Collecting tensorflow-addons\n",
            "\u001b[?25l  Downloading https://files.pythonhosted.org/packages/74/e3/56d2fe76f0bb7c88ed9b2a6a557e25e83e252aec08f13de34369cd850a0b/tensorflow_addons-0.12.1-cp37-cp37m-manylinux2010_x86_64.whl (703kB)\n",
            "\u001b[K     |████████████████████████████████| 706kB 8.5MB/s \n",
            "\u001b[?25hRequirement already satisfied: typeguard>=2.7 in /usr/local/lib/python3.7/dist-packages (from tensorflow-addons) (2.7.1)\n",
            "Installing collected packages: tensorflow-addons\n",
            "Successfully installed tensorflow-addons-0.12.1\n"
          ],
          "name": "stdout"
        }
      ]
    },
    {
      "cell_type": "code",
      "metadata": {
        "id": "RS-EFZ06c_WN"
      },
      "source": [
        ""
      ],
      "execution_count": null,
      "outputs": []
    },
    {
      "cell_type": "code",
      "metadata": {
        "id": "SyTwjH3jWXPW"
      },
      "source": [
        "from keras.layers import InputLayer, Dense, LSTM, Input, Dropout\n",
        "from keras.models import Sequential, Model\n",
        "from keras.optimizers import SGD,Adam,Adamax,Nadam,Ftrl,Adadelta,Adagrad,Nadam\n",
        "import tensorflow as tf\n",
        "from tensorflow.keras.callbacks import ModelCheckpoint\n",
        "from keras.backend import clear_session\n",
        "from tensorflow.keras.losses import mean_absolute_percentage_error, huber,kld\n",
        "import tensorflow_addons as tfa\n"
      ],
      "execution_count": 20,
      "outputs": []
    },
    {
      "cell_type": "code",
      "metadata": {
        "id": "FcsN0PIEczeF"
      },
      "source": [
        "X=ritka\n",
        "y=list(df.label_index)"
      ],
      "execution_count": 39,
      "outputs": []
    },
    {
      "cell_type": "code",
      "metadata": {
        "id": "mGKaIdLtcoin"
      },
      "source": [
        "clear_session()\n",
        "\n",
        "kernel_reg_1=tf.keras.regularizers.L2(0.1)\n",
        "\n",
        "input_size=len(X[0])\n",
        "output_size=20\n",
        "drop_frac0=0.7  #0.6 jó\n",
        "drop_frac1=0.6  \n",
        "'''\n",
        "desc=[\n",
        "        {\"node\":100,\"activation\":\"swish\",\"kernel_init\":\"lecun_normal\"},\n",
        "        {\"node\":120,\"activation\":\"swish\",\"kernel_init\":\"lecun_normal\"},\n",
        "        {\"node\":110,\"activation\":\"swish\",\"kernel_init\":\"lecun_normal\"},\n",
        "]\n",
        "80X32 0.060\n",
        "'''\n",
        "desc=[\n",
        "        {\"node\":200,\"activation\":\"tanh\",\"kernel_init\":\"lecun_normal\"},\n",
        "        {\"node\":220,\"activation\":\"tanh\",\"kernel_init\":\"lecun_normal\"},\n",
        "        {\"node\":210,\"activation\":\"tanh\",\"kernel_init\":\"lecun_normal\"},\n",
        "]\n",
        "\n",
        "'''\n",
        "\n",
        "desc=[\n",
        "        {\"node\":200,\"activation\":\"tanh\",\"kernel_init\":\"lecun_normal\"},\n",
        "        {\"node\":220,\"activation\":\"tanh\",\"kernel_init\":\"lecun_normal\"},\n",
        "        {\"node\":210,\"activation\":\"tanh\",\"kernel_init\":\"lecun_normal\"},\n",
        "]\n",
        "2x80x48: 0.0028 loss: msle learning rate=0.00005\n",
        "'''\n",
        "\n",
        "desc=[\n",
        "        {\"node\":250,\"activation\":\"tanh\",\"kernel_init\":\"lecun_normal\"},\n",
        "        {\"node\":50,\"activation\":\"tanh\",\"kernel_init\":\"lecun_normal\"},\n",
        "        {\"node\":250,\"activation\":\"tanh\",\"kernel_init\":\"lecun_normal\"},\n",
        "       \n",
        "      \n",
        "       \n",
        "      \n",
        "]\n",
        "\n",
        "\n",
        "\n",
        "input1=Input(shape=(input_size,))\n",
        "layer_input=input1\n",
        "for idx,_ in enumerate(desc):\n",
        "    l1_out=Dense(desc[idx][\"node\"],activation=desc[idx][\"activation\"],kernel_initializer=desc[idx][\"kernel_init\"])(layer_input) # 202102262002 l1_out=Dense(370,activation=\"sigmoid\")(input1)\n",
        "    l2_out=Dropout(drop_frac0)(l1_out)\n",
        "    layer_input=l2_out\n",
        "    # 2600 as értékkel 0.033\n",
        "\n",
        "#l3_out=Dense(2000,activation=\"sigmoid\",kernel_initializer='lecun_normal',)(l2_out)\n",
        "#l4_out=Dropout(drop_frac1)(l3_out)\n",
        "#2000-vel jól megy\n",
        "\n",
        "\n",
        "pred=Dense(output_size,)(l2_out)\n",
        "\n",
        "model = Model(inputs=input1, outputs=pred)\n",
        "optimizer=Adamax(learning_rate=0.00005,) #202102261859 ~0,0038: Adamax(learning_rate=0.01,) #SGD(lr=0.005, decay=1e-4, momentum=0.9)\n",
        "optimizer=Nadam(learning_rate=0.00005,)\n",
        "optimizer=tfa.optimizers.LazyAdam(0.001)\n",
        "opt = tf.keras.optimizers.Adamax(learning_rate=0.00005)\n",
        "optimizer = tfa.optimizers.Lookahead(opt)\n",
        "\n",
        "model.compile(loss='sparse_categorical_crossentropy',\n",
        "    optimizer=optimizer,\n",
        "    metrics=[\"softmax\"])"
      ],
      "execution_count": 42,
      "outputs": []
    },
    {
      "cell_type": "code",
      "metadata": {
        "id": "XEalVvNifm3E"
      },
      "source": [
        "history = model.fit( X,y, \n",
        "                        epochs=10, \n",
        "                        batch_size=3,validation_split=0.1,\n",
        "                        \n",
        "                        verbose=1\n",
        "                              \n",
        "                              )"
      ],
      "execution_count": null,
      "outputs": []
    }
  ]
}