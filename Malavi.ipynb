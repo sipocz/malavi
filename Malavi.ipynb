{
  "nbformat": 4,
  "nbformat_minor": 0,
  "metadata": {
    "colab": {
      "name": "Malavi.ipynb",
      "provenance": [],
      "collapsed_sections": [],
      "authorship_tag": "ABX9TyMyjR67JJ3HhonXIm1FO8xb",
      "include_colab_link": true
    },
    "kernelspec": {
      "display_name": "Python 3",
      "name": "python3"
    },
    "language_info": {
      "name": "python"
    }
  },
  "cells": [
    {
      "cell_type": "markdown",
      "metadata": {
        "id": "view-in-github",
        "colab_type": "text"
      },
      "source": [
        "<a href=\"https://colab.research.google.com/github/sipocz/malavi/blob/main/Malavi.ipynb\" target=\"_parent\"><img src=\"https://colab.research.google.com/assets/colab-badge.svg\" alt=\"Open In Colab\"/></a>"
      ]
    },
    {
      "cell_type": "code",
      "metadata": {
        "colab": {
          "base_uri": "https://localhost:8080/"
        },
        "id": "qNp6Kvx_FAyP",
        "outputId": "b9bb8f47-18e6-43e6-a210-33922d52f3d7"
      },
      "source": [
        "!rm Train.csv\n",
        "fname=\"https://github.com/sipocz/malavi/raw/ccefa7562b0a115d207a02f2cf2754406870ef52/Train.csv\"\n",
        "!wget https://github.com/sipocz/malavi/raw/ccefa7562b0a115d207a02f2cf2754406870ef52/Train.csv"
      ],
      "execution_count": 63,
      "outputs": [
        {
          "output_type": "stream",
          "text": [
            "--2021-03-30 22:20:00--  https://github.com/sipocz/malavi/raw/ccefa7562b0a115d207a02f2cf2754406870ef52/Train.csv\n",
            "Resolving github.com (github.com)... 140.82.113.3\n",
            "Connecting to github.com (github.com)|140.82.113.3|:443... connected.\n",
            "HTTP request sent, awaiting response... 302 Found\n",
            "Location: https://raw.githubusercontent.com/sipocz/malavi/ccefa7562b0a115d207a02f2cf2754406870ef52/Train.csv [following]\n",
            "--2021-03-30 22:20:01--  https://raw.githubusercontent.com/sipocz/malavi/ccefa7562b0a115d207a02f2cf2754406870ef52/Train.csv\n",
            "Resolving raw.githubusercontent.com (raw.githubusercontent.com)... 185.199.108.133, 185.199.109.133, 185.199.110.133, ...\n",
            "Connecting to raw.githubusercontent.com (raw.githubusercontent.com)|185.199.108.133|:443... connected.\n",
            "HTTP request sent, awaiting response... 200 OK\n",
            "Length: 3158546 (3.0M) [text/plain]\n",
            "Saving to: ‘Train.csv’\n",
            "\n",
            "Train.csv           100%[===================>]   3.01M  --.-KB/s    in 0.09s   \n",
            "\n",
            "2021-03-30 22:20:01 (33.2 MB/s) - ‘Train.csv’ saved [3158546/3158546]\n",
            "\n"
          ],
          "name": "stdout"
        }
      ]
    },
    {
      "cell_type": "code",
      "metadata": {
        "colab": {
          "base_uri": "https://localhost:8080/"
        },
        "id": "9tw-bYimF0jG",
        "outputId": "18c62061-b33f-486c-fe25-f814ce503d99"
      },
      "source": [
        "!head Train.csv"
      ],
      "execution_count": 64,
      "outputs": [
        {
          "output_type": "stream",
          "text": [
            "ID,Text,Label\n",
            "ID_AASHwXxg,\" Mwangonde: Khansala wachinyamata Akamati achinyamata ndi atsogoleri a mawa, ambiri amaganiza kuti izi ndi nkhambakamwa chabe. Koma achinyamata ena, monga Lusubilo Mwangonde, akukwaniritsa akupherezetsa mawuwa osati pongolota kuti adzakhala, koma kutsogolera kumene chifukwa nthawi yawo yakwana. DAILES BANDA adacheza ndi Mwangonde, khansala wachinyama, yemwe akuimira Jumbo Ward mumzinda wa Mzuzu, motere:  Chisale watuluka nkumangidwanso  Sipakala waimitsa Nyumba ya Malamulo  Pa Wenela pasintha zedi Ali ndi masomphenya: Mwangonde Tikudziweni  Ndine Lusubilo Mwangonde, ndili ndi zaka 27 zakubadwa. Ndinabadwa mbanja la ana asanu ndipo ndine wachinayi kubadwa. Ndimachokera mmudzi mwa Mwamalopa, kwa Paramount Chief Kyungu mboma la Karonga. Sindili pabanja pakadalipano.\n",
            " Mbiri ya maphunziro anu ndi yotani? Maphunziro anga a pulaimale ndidachitira kusukula yapulaiveti ya Viphya mumzinda wa Mzuzu ndipo asekondale ndidachitira pa Phwezi Boys mboma la Rumphi. Ndili ndi diploma ya Accounting ndipo pakadalipano ndikupanga digiri komanso Chartered Accounting kusukulu ya Malawi College of Accountancy (MCA).\n",
            " Mudayamba bwanji zandale? Kuyambira ndili wachichepere, zaka 12, ndakhala ndikukhala mumaudindo a utgogoleri. Ichi ndi china mwa zinthu zomwe zidandilimbikitsa kuti ndikhoza kudzapambana pazisankho. Koma chachikulu chomwe chidandichititsa kuti ndilowe ukhansala chidali chifukwa chakuti ndinkafuna kupereka mpata kwa anthu kuti azitha kuyankhula zakukhosi kwawo polimbikitsa demokalase ndi chitukuko.\n",
            " Ntchito mukugwira ndi zomwe munkayembekezera? Eya, ndiponso ndinkayembekezera zambiri.\n",
            " Masomphenya anu ndi otani pandale? Ine ndine munthu wokhulupirira Mulungu ndipo ndili ndi chikhulupiriro choti Iye ndi amene adzandionetsere zomwe ndikuyera kuchita ndi tsogolo langa.\n",
            " Zinthu zina zomwe mumachita ndi chiyani pambali pa ukhansala? Ndikakhala sindikugwira ntchito yaukhansala ndimakhala ndikuchita bizinesi, nthawi zina ndimakhala ndili kusukulu komwe ndikuchita maphuro anga a digiri. Kuonjezera pamenepo ndili ndi bungwe lomwe ndidayambitsa ndi anzanga ena la Centre for Participatory Democracy lomwe limalimbikitsa demokalase.\n",
            " Zomwe mwakwanitsa ndi zotani? Ndathandiza kuti ntchito yopala misewu ya kudera la Moyale itheke. Misewuyi yakhala nthawi yaitali osapalidwa. Ndidathandiziranso kuti ochita malonda ayambe kumanga mashopu anjerwa ndi kusiya kumangira matabwa kapena zigwagwa. Ndidakwanitsanso kukaimirira khonsolo ya Mzuzu ku Nyumba ya Malamulo. Ndaonanso kuti ntchitoyi yandithandiza kusintha momwe ndimaonera zinthu komanso ndimakumana ndi anthu osiyanasiyana omwe amandiphunzitsa zinthu zambiri.\n",
            "\",POLITICS\n",
            "ID_AGoFySzn,\" MCP siidakhutire ndi kalembera Chipani cha Malawi Congress Party (MCP) chati ngakhale ndime yachiwiri ya kalembera wa zisankho yayenda bwino poyerekeza ndi yoyamba, MEC iganizire zobwereranso mmaboma omwe yadutsamo kale kaamba koti anthu ambiri sadalembetse.\n"
          ],
          "name": "stdout"
        }
      ]
    },
    {
      "cell_type": "code",
      "metadata": {
        "id": "cUvPET9xFeR-"
      },
      "source": [
        "import pandas as pd\n",
        "df=pd.read_csv(\"Train.csv\",sep=\",\")"
      ],
      "execution_count": 173,
      "outputs": []
    },
    {
      "cell_type": "code",
      "metadata": {
        "colab": {
          "base_uri": "https://localhost:8080/"
        },
        "id": "yaD-kAkzGvvt",
        "outputId": "15a50dbf-c7e5-4185-ae17-6814fb2839ac"
      },
      "source": [
        "len(df)"
      ],
      "execution_count": 174,
      "outputs": [
        {
          "output_type": "execute_result",
          "data": {
            "text/plain": [
              "1436"
            ]
          },
          "metadata": {
            "tags": []
          },
          "execution_count": 174
        }
      ]
    },
    {
      "cell_type": "code",
      "metadata": {
        "id": "-H22jG0odaeD"
      },
      "source": [
        "labels=['SOCIAL ISSUES', 'EDUCATION', 'RELATIONSHIPS', 'ECONOMY', 'RELIGION', 'POLITICS', 'LAW/ORDER', 'SOCIAL', 'HEALTH', 'ARTS AND CRAFTS', 'FARMING', 'CULTURE', 'FLOODING', 'WITCHCRAFT', 'MUSIC', 'TRANSPORT', 'WILDLIFE/ENVIRONMENT', 'LOCALCHIEFS', 'SPORTS', 'OPINION/ESSAY']"
      ],
      "execution_count": 175,
      "outputs": []
    },
    {
      "cell_type": "code",
      "metadata": {
        "colab": {
          "base_uri": "https://localhost:8080/"
        },
        "id": "lHJbRboDdhLa",
        "outputId": "00d9bd95-3b3a-42b6-bdf9-51215b1355c9"
      },
      "source": [
        "labels"
      ],
      "execution_count": 176,
      "outputs": [
        {
          "output_type": "execute_result",
          "data": {
            "text/plain": [
              "['SOCIAL ISSUES',\n",
              " 'EDUCATION',\n",
              " 'RELATIONSHIPS',\n",
              " 'ECONOMY',\n",
              " 'RELIGION',\n",
              " 'POLITICS',\n",
              " 'LAW/ORDER',\n",
              " 'SOCIAL',\n",
              " 'HEALTH',\n",
              " 'ARTS AND CRAFTS',\n",
              " 'FARMING',\n",
              " 'CULTURE',\n",
              " 'FLOODING',\n",
              " 'WITCHCRAFT',\n",
              " 'MUSIC',\n",
              " 'TRANSPORT',\n",
              " 'WILDLIFE/ENVIRONMENT',\n",
              " 'LOCALCHIEFS',\n",
              " 'SPORTS',\n",
              " 'OPINION/ESSAY']"
            ]
          },
          "metadata": {
            "tags": []
          },
          "execution_count": 176
        }
      ]
    },
    {
      "cell_type": "code",
      "metadata": {
        "id": "ADrN8c_zd8GX"
      },
      "source": [
        "label_index=[]\n",
        "for i in list(df.Label):\n",
        "    label_index.append(labels.index(i))"
      ],
      "execution_count": 177,
      "outputs": []
    },
    {
      "cell_type": "code",
      "metadata": {
        "id": "4eJ2akNZeuO3"
      },
      "source": [
        "df[\"label_index\"]=label_index"
      ],
      "execution_count": 178,
      "outputs": []
    },
    {
      "cell_type": "code",
      "metadata": {
        "colab": {
          "base_uri": "https://localhost:8080/",
          "height": 204
        },
        "id": "517fmpKFe20s",
        "outputId": "6cd780c7-262c-4f13-ae2a-e23fda81f3dc"
      },
      "source": [
        "df.head()"
      ],
      "execution_count": 179,
      "outputs": [
        {
          "output_type": "execute_result",
          "data": {
            "text/html": [
              "<div>\n",
              "<style scoped>\n",
              "    .dataframe tbody tr th:only-of-type {\n",
              "        vertical-align: middle;\n",
              "    }\n",
              "\n",
              "    .dataframe tbody tr th {\n",
              "        vertical-align: top;\n",
              "    }\n",
              "\n",
              "    .dataframe thead th {\n",
              "        text-align: right;\n",
              "    }\n",
              "</style>\n",
              "<table border=\"1\" class=\"dataframe\">\n",
              "  <thead>\n",
              "    <tr style=\"text-align: right;\">\n",
              "      <th></th>\n",
              "      <th>ID</th>\n",
              "      <th>Text</th>\n",
              "      <th>Label</th>\n",
              "      <th>label_index</th>\n",
              "    </tr>\n",
              "  </thead>\n",
              "  <tbody>\n",
              "    <tr>\n",
              "      <th>0</th>\n",
              "      <td>ID_AASHwXxg</td>\n",
              "      <td>Mwangonde: Khansala wachinyamata Akamati achi...</td>\n",
              "      <td>POLITICS</td>\n",
              "      <td>5</td>\n",
              "    </tr>\n",
              "    <tr>\n",
              "      <th>1</th>\n",
              "      <td>ID_AGoFySzn</td>\n",
              "      <td>MCP siidakhutire ndi kalembera Chipani cha Ma...</td>\n",
              "      <td>POLITICS</td>\n",
              "      <td>5</td>\n",
              "    </tr>\n",
              "    <tr>\n",
              "      <th>2</th>\n",
              "      <td>ID_AGrrkBGP</td>\n",
              "      <td>Bungwe la MANEPO Lapempha Boma Liganizire Anth...</td>\n",
              "      <td>HEALTH</td>\n",
              "      <td>8</td>\n",
              "    </tr>\n",
              "    <tr>\n",
              "      <th>3</th>\n",
              "      <td>ID_AIJeigeG</td>\n",
              "      <td>Ndale zogawanitsa miyambo zanyanya Si zachile...</td>\n",
              "      <td>POLITICS</td>\n",
              "      <td>5</td>\n",
              "    </tr>\n",
              "    <tr>\n",
              "      <th>4</th>\n",
              "      <td>ID_APMprMbV</td>\n",
              "      <td>Nanga wapolisi ataphofomoka? Masiku ano sichi...</td>\n",
              "      <td>LAW/ORDER</td>\n",
              "      <td>6</td>\n",
              "    </tr>\n",
              "  </tbody>\n",
              "</table>\n",
              "</div>"
            ],
            "text/plain": [
              "            ID  ... label_index\n",
              "0  ID_AASHwXxg  ...           5\n",
              "1  ID_AGoFySzn  ...           5\n",
              "2  ID_AGrrkBGP  ...           8\n",
              "3  ID_AIJeigeG  ...           5\n",
              "4  ID_APMprMbV  ...           6\n",
              "\n",
              "[5 rows x 4 columns]"
            ]
          },
          "metadata": {
            "tags": []
          },
          "execution_count": 179
        }
      ]
    },
    {
      "cell_type": "code",
      "metadata": {
        "id": "qhno5Qy7HKrW"
      },
      "source": [
        "s1=set()\n",
        "for i in range(len(df)):\n",
        "    s1=s1.union(set(df.Text[i].replace(\",\",\"\").replace(\".\",\"\").upper().split()))\n",
        "words=list(s1)"
      ],
      "execution_count": 180,
      "outputs": []
    },
    {
      "cell_type": "code",
      "metadata": {
        "id": "EACu3ZgLL5Yz"
      },
      "source": [
        "words.sort()"
      ],
      "execution_count": 181,
      "outputs": []
    },
    {
      "cell_type": "code",
      "metadata": {
        "colab": {
          "base_uri": "https://localhost:8080/"
        },
        "id": "jcmAfwSoDW5O",
        "outputId": "0e10230d-dafb-44d3-fe80-7e0e4985b5ea"
      },
      "source": [
        "words"
      ],
      "execution_count": 182,
      "outputs": [
        {
          "output_type": "execute_result",
          "data": {
            "text/plain": [
              "['\"HTTP://WWWRADIOMARIAMW/WP-CONTENT/UPLOADS/2019/09/BAHAMAS-300X168JPG\"',\n",
              " '$080',\n",
              " '$1',\n",
              " '$115',\n",
              " '$146',\n",
              " '$150',\n",
              " '$164',\n",
              " '$179',\n",
              " '$20',\n",
              " '$232',\n",
              " '$25400',\n",
              " '$35',\n",
              " '$50',\n",
              " '$6',\n",
              " '%',\n",
              " '&',\n",
              " '&DEVELOPMENT',\n",
              " '(',\n",
              " '(1)',\n",
              " '(10)',\n",
              " '(100)',\n",
              " '(11)',\n",
              " '(11:30',\n",
              " '(12)',\n",
              " '(132',\n",
              " '(14)',\n",
              " '(15)',\n",
              " '(1961)',\n",
              " '(1966',\n",
              " '(1980)',\n",
              " '(2)',\n",
              " '(20)',\n",
              " '(4)',\n",
              " '(40)',\n",
              " '(41)',\n",
              " '(5)',\n",
              " '(5-STAR',\n",
              " '(50)',\n",
              " '(5036%)',\n",
              " '(518%)',\n",
              " '(5248%)',\n",
              " '(5408%)',\n",
              " '(5832%)',\n",
              " '(6)',\n",
              " '(60%)',\n",
              " '(6166%)',\n",
              " '(6300%)',\n",
              " '(7)',\n",
              " '(77',\n",
              " '(8)',\n",
              " '(9)',\n",
              " '(90',\n",
              " '(ABOUT',\n",
              " '(ACB)',\n",
              " '(ACCESS',\n",
              " '(ACJ)',\n",
              " '(ACTION',\n",
              " '(ADB)',\n",
              " '(ADC)',\n",
              " '(ADD)',\n",
              " '(AERIAL)',\n",
              " '(AFCON)',\n",
              " '(AFDB)',\n",
              " '(AFORD)',\n",
              " '(AGENT)',\n",
              " '(AGRA)',\n",
              " '(AIC)',\n",
              " '(AKUKOKERA',\n",
              " '(AKULOZA',\n",
              " '(AKUSEKA)',\n",
              " '(AMAI',\n",
              " '(ANC)',\n",
              " '(ANYAMATA',\n",
              " '(APAM)',\n",
              " '(APOSTLESHIP',\n",
              " '(ASAP)',\n",
              " '(ASH)',\n",
              " '(ATI)',\n",
              " '(AU)',\n",
              " '(B)(VI)',\n",
              " '(BAH)',\n",
              " '(BAJETI)',\n",
              " '(BANJA)',\n",
              " '(BBC)',\n",
              " '(BCC)',\n",
              " '(BDP)',\n",
              " '(BEAM',\n",
              " '(BEAM)',\n",
              " '(BICC)',\n",
              " '(BINTONY',\n",
              " '(BLADD)',\n",
              " '(BLM)',\n",
              " '(BOX',\n",
              " '(BSS)',\n",
              " '(BUDGET',\n",
              " '(BULKING',\n",
              " '(BULLET',\n",
              " '(BUNGWE',\n",
              " '(BWB)',\n",
              " '(C)',\n",
              " '(CABS)',\n",
              " '(CADECOM)',\n",
              " '(CALL',\n",
              " '(CAMA)',\n",
              " '(CANON',\n",
              " '(CAPITAL',\n",
              " '(CARTOON)',\n",
              " '(CASHGATE)',\n",
              " '(CASSAVA',\n",
              " '(CCJP)',\n",
              " '(CCP)',\n",
              " '(CDC)',\n",
              " '(CDEDI)',\n",
              " '(CDF)',\n",
              " '(CEAR)',\n",
              " '(CEDEP)',\n",
              " '(CEPA)',\n",
              " '(CEYCA)',\n",
              " '(CFJ)',\n",
              " '(CFM)',\n",
              " '(CFSC)',\n",
              " '(CFT)',\n",
              " '(CFTC)',\n",
              " '(CHANCO)',\n",
              " '(CHEFO)',\n",
              " '(CHIEFS',\n",
              " '(CHIMBUDZI)',\n",
              " '(CHREAA)',\n",
              " '(CHRR)',\n",
              " '(CIC)',\n",
              " '(CIPE)',\n",
              " '(CISANET)',\n",
              " '(CITY',\n",
              " '(CLUSTER',\n",
              " '(CMD)',\n",
              " '(CMO)',\n",
              " '(CMST)',\n",
              " '(COM)',\n",
              " '(COMESA)',\n",
              " '(COMMUNITY',\n",
              " '(COMSIP)',\n",
              " '(CONCOURT)',\n",
              " '(CONGOMA)',\n",
              " '(CONGREGATION',\n",
              " '(COPUA)',\n",
              " '(CPS)',\n",
              " '(CREMPA)',\n",
              " '(CSCE)',\n",
              " '(CSEC)',\n",
              " '(CSTU)',\n",
              " '(CUSTOMARY',\n",
              " '(CWO)',\n",
              " '(CYLA)',\n",
              " '(DAPP)',\n",
              " '(DC)',\n",
              " '(DCCMS)',\n",
              " '(DCPC)',\n",
              " '(DCT)',\n",
              " '(DD',\n",
              " '(DEC)',\n",
              " '(DEM)ADATERO',\n",
              " '(DFM)',\n",
              " '(DIABETES)',\n",
              " '(DIPLOMATIC',\n",
              " '(DISCOVER)',\n",
              " '(DIVINE',\n",
              " '(DIVISIONAL',\n",
              " '(DODMA)',\n",
              " '(DPP)',\n",
              " '(DRTSS)',\n",
              " '(DZINA',\n",
              " '(EC)',\n",
              " '(ECAMA)',\n",
              " '(ECG)',\n",
              " '(ECM)',\n",
              " '(ECRP)',\n",
              " '(EFAZ)',\n",
              " '(EGENCO)',\n",
              " '(EMBALMING)',\n",
              " '(ERP)',\n",
              " '(EU)',\n",
              " '(EXTRAORDINARY',\n",
              " '(FAM)',\n",
              " '(FAS)',\n",
              " '(FEDERALISM)',\n",
              " '(FEDOMA)',\n",
              " '(FEMNET)',\n",
              " '(FEWSNET)',\n",
              " '(FIRST',\n",
              " '(FISP)',\n",
              " '(FISTULA)',\n",
              " '(FIU)',\n",
              " '(FOCUS)',\n",
              " '(FOL)',\n",
              " '(FOOT',\n",
              " '(FOOTBALL)',\n",
              " '(FP)',\n",
              " '(FUM)',\n",
              " '(GAWO',\n",
              " '(GENERATOR)',\n",
              " '(GP)',\n",
              " '(GREEN)',\n",
              " '(HAC)',\n",
              " '(HIGH',\n",
              " '(HIGHER',\n",
              " '(HRC)',\n",
              " '(HRCC)',\n",
              " '(HRDC)',\n",
              " '(HUMAN',\n",
              " '(IATA)',\n",
              " '(ICA)',\n",
              " '(ICC)',\n",
              " '(ICTAM)',\n",
              " '(ID)',\n",
              " '(IFMIS)',\n",
              " '(IMF)',\n",
              " '(INDECENT',\n",
              " '(INTERVIEW)',\n",
              " '(IPEQI)',\n",
              " '(IPI)',\n",
              " '(IPOR)',\n",
              " '(ISAMA)',\n",
              " '(IYI',\n",
              " '(JCE)',\n",
              " '(JEKETE',\n",
              " '(JTI)',\n",
              " '(JUDICIAL',\n",
              " '(K185',\n",
              " '(K25',\n",
              " '(K36',\n",
              " '(K4',\n",
              " '(K57',\n",
              " '(KAYA',\n",
              " '(KCH)',\n",
              " '(KEN',\n",
              " '(KIA)',\n",
              " '(KOMA',\n",
              " '(KUKADIKIRIRA',\n",
              " '(KUMANJA)',\n",
              " '(KUMANZERE)',\n",
              " '(KUTANTHAUZA',\n",
              " '(L)',\n",
              " '(L):',\n",
              " '(LACHINAYI)',\n",
              " '(LACHISANU)',\n",
              " '(LACHITATU)',\n",
              " '(LAW',\n",
              " '(LCCRM)',\n",
              " '(LDF)',\n",
              " '(LGAP)',\n",
              " '(LITURGICAL',\n",
              " '(LIVE)',\n",
              " '(LOWERUKA',\n",
              " '(LOWERUKA)',\n",
              " '(LUANAR)',\n",
              " '(LWB)',\n",
              " '(MA',\n",
              " '(MACOHA)',\n",
              " '(MACRA)',\n",
              " '(MADALITSO)',\n",
              " '(MAFUNDE)',\n",
              " '(MAINTAINANCE)',\n",
              " '(MALAWI',\n",
              " '(MALAWI)',\n",
              " '(MAM)',\n",
              " '(MANA)',\n",
              " '(MANAD)',\n",
              " '(MANASO)',\n",
              " '(MANEB)',\n",
              " '(MANEPO)',\n",
              " '(MANGOCHI',\n",
              " '(MAPULAIMALE)',\n",
              " '(MARDEF)',\n",
              " '(MASK)',\n",
              " '(MASTITIS)',\n",
              " '(MATIPATE)',\n",
              " '(MAVENDA)',\n",
              " '(MAWU)',\n",
              " '(MBC)',\n",
              " '(MBS)',\n",
              " '(MBTS)',\n",
              " '(MCA)',\n",
              " '(MCCCI)',\n",
              " '(MCH)',\n",
              " '(MCP)',\n",
              " '(MCTU)',\n",
              " '(MDBNL)',\n",
              " '(MDF',\n",
              " '(MDF)',\n",
              " '(MDFA)',\n",
              " '(MDP)',\n",
              " '(MEC)',\n",
              " '(MEHN)',\n",
              " '(MEJN)',\n",
              " '(MERA)',\n",
              " '(MESN)',\n",
              " '(MET)',\n",
              " '(MGDS)',\n",
              " '(MHEN)',\n",
              " '(MHRC)',\n",
              " '(MHRCC)',\n",
              " '(MHRRC)',\n",
              " '(MIE)',\n",
              " '(MIJ)',\n",
              " '(MIM)',\n",
              " '(MISA-MALAWI)',\n",
              " '(MLS)',\n",
              " '(MMD)',\n",
              " '(MOAM)',\n",
              " '(MONEY',\n",
              " '(MONITORS)',\n",
              " '(MPP)',\n",
              " '(MPS)',\n",
              " '(MRA)',\n",
              " '(MRCS)',\n",
              " '(MSB)',\n",
              " '(MSCE)',\n",
              " '(MSE)',\n",
              " '(MTENDERE',\n",
              " '(MTT)',\n",
              " '(MUANA)',\n",
              " '(MUB)',\n",
              " '(MUEZZIN)',\n",
              " '(MVAC)',\n",
              " '(MVP)',\n",
              " '(MYP)',\n",
              " '(MZAAD)',\n",
              " '(MZADD)',\n",
              " '(MZIHA)',\n",
              " '(MZUNI)',\n",
              " '(NAC)',\n",
              " '(NACDC)',\n",
              " '(NAM)',\n",
              " '(NAO)',\n",
              " '(NASAF)',\n",
              " '(NASFAM)',\n",
              " '(NATIONAL',\n",
              " '(NDIKUIKIRA',\n",
              " '(NDODO)',\n",
              " '(NEMA)',\n",
              " '(NGINDE)',\n",
              " '(NGO',\n",
              " '(NGO-GCN)',\n",
              " '(NICE)',\n",
              " '(NJINGA',\n",
              " '(NKHWANGWA)',\n",
              " '(NLP)',\n",
              " '(NOCMA)',\n",
              " '(NONM)',\n",
              " '(NOYD)',\n",
              " '(NPL)',\n",
              " '(NRB)',\n",
              " '(NSO)',\n",
              " '(NYCOM)',\n",
              " '(OMWE',\n",
              " '(OPC)',\n",
              " '(OSATI',\n",
              " '(OTHAMANGITSA',\n",
              " '(OVOP)',\n",
              " '(PAA)',\n",
              " '(PAC)',\n",
              " '(PAC)MU',\n",
              " '(PAFUPIFUPI',\n",
              " '(PAKATI)',\n",
              " '(PAM)',\n",
              " '(PARAMOUNT',\n",
              " '(PASD)',\n",
              " '(PASTORS',\n",
              " '(PAWA)',\n",
              " '(PCM)',\n",
              " '(PETRA)',\n",
              " '(PIM)',\n",
              " '(PLO)',\n",
              " '(PMS)',\n",
              " '(POLITICAL',\n",
              " '(PP)',\n",
              " '(PPM)',\n",
              " '(PROFESSIONAL',\n",
              " '(PSAM)',\n",
              " '(PSLC)',\n",
              " '(PSLCE)',\n",
              " '(PSU)',\n",
              " '(PURE',\n",
              " '(PURPLE)',\n",
              " '(PVT)',\n",
              " '(PYPA)',\n",
              " '(QECH)',\n",
              " '(QEDJT)',\n",
              " '(QUECH)',\n",
              " '(R)',\n",
              " '(RA)',\n",
              " '(RBM)',\n",
              " '(RUBELLA)',\n",
              " '(SADC)',\n",
              " '(SAINT',\n",
              " '(SBVM)',\n",
              " '(SCOM)',\n",
              " '(SDP)',\n",
              " '(SECRETARY',\n",
              " '(SENIOR',\n",
              " '(SGN)',\n",
              " '(SHIP)',\n",
              " '(SHIVADD)',\n",
              " '(SHMPA)',\n",
              " '(SHOOT',\n",
              " '(SHOT',\n",
              " '(SIC)',\n",
              " '(SISTERS',\n",
              " '(SKETCH',\n",
              " '(SLC)',\n",
              " '(SMEA)',\n",
              " '(SMS)',\n",
              " '(SOCAM)',\n",
              " '(SOCIETY',\n",
              " '(SOLAR',\n",
              " '(SOLIDARITY)',\n",
              " '(SP)',\n",
              " '(SRGDI)',\n",
              " '(SRWB)',\n",
              " '(SSVP)',\n",
              " '(STRATRATEGIC',\n",
              " '(SULOM)',\n",
              " '(SWIMMING)',\n",
              " '(T/A)',\n",
              " '(TAMA)',\n",
              " '(TANGOMUPATSA',\n",
              " '(TAXI)',\n",
              " '(TB)',\n",
              " '(TC)',\n",
              " '(TCC)',\n",
              " '(TEACHERS',\n",
              " '(THANGATA)',\n",
              " '(THE',\n",
              " '(THEOLOGY)',\n",
              " '(TIPOLISO)',\n",
              " '(TRACHOMA)',\n",
              " '(TRAFFIC)',\n",
              " '(TUM)',\n",
              " '(UAE)',\n",
              " '(UBR)',\n",
              " '(UDC)',\n",
              " '(UDF)',\n",
              " '(UIP)',\n",
              " '(UN)',\n",
              " '(UNDP)',\n",
              " '(UNGA)',\n",
              " '(UNHCR)',\n",
              " '(UNICEF)',\n",
              " '(UNILIA)',\n",
              " '(UNIMA)',\n",
              " '(USAAID)',\n",
              " '(UTM)',\n",
              " '(UTP)',\n",
              " '(VDC)',\n",
              " '(VENTILATORS)',\n",
              " '(VICE',\n",
              " '(VICTIM',\n",
              " '(VIRUS)',\n",
              " '(VOL)',\n",
              " '(WACHITATU',\n",
              " '(WACHIWIRI',\n",
              " '(WALETI)',\n",
              " '(WASUTI)',\n",
              " '(WAVALA',\n",
              " '(WESM)',\n",
              " '(WFP)',\n",
              " '(WHO)',\n",
              " '(WILSA)',\n",
              " '(WLA)',\n",
              " '(WLSA)',\n",
              " '(WOLREC)',\n",
              " '(WORLD',\n",
              " '(WPF)',\n",
              " '(YAD)',\n",
              " '(YAKUDA)',\n",
              " '(YAS)',\n",
              " '(YCS)',\n",
              " '(YCW)',\n",
              " '(YECE)',\n",
              " '(YEMWE',\n",
              " '(YFM)',\n",
              " '(YODEP)',\n",
              " '(YOGWIRITSA',\n",
              " '(YOMWE',\n",
              " '(YOUTH',\n",
              " '(YWCA)',\n",
              " '(ZAM)',\n",
              " '(ZBS)',\n",
              " '(ZCF)',\n",
              " '(ZIFIIRA)',\n",
              " '(ZOKHALA',\n",
              " '(ZOPOSA',\n",
              " ')',\n",
              " '*A',\n",
              " '+CHA',\n",
              " '-19',\n",
              " '-CONTENT/UPLOADS/2019/09/POVERELLEJPG',\n",
              " '-CONTENT/UPLOADS/2019/11/MORALESJPG\"',\n",
              " '/08/GHANA-POLICEJPG\"',\n",
              " '/2019/10/BOTSWANA-VOTING-300X168JPG\"',\n",
              " '/>',\n",
              " '/><NOSCRIPT><IMG',\n",
              " '/>ABAMBO',\n",
              " '/>ALANDIRA',\n",
              " '/>AMALIMBIKITSA',\n",
              " '/>AMULAMULA',\n",
              " '/>ANATSOGOLERA',\n",
              " '/>ANAYENDERA',\n",
              " '/>ANTHU',\n",
              " '/>BAMBO',\n",
              " '/>BISHOP',\n",
              " '/>BOTOMANI:',\n",
              " '/>BUNGWE',\n",
              " '/>CHAKA',\n",
              " '/>CHANJO',\n",
              " '/>CHIGALU:',\n",
              " '/>CHINGOTA(KUMANZERE)',\n",
              " '/>DAUSI:',\n",
              " '/>DR',\n",
              " '/>ENA',\n",
              " '/>HAS',\n",
              " '/>JIYA:',\n",
              " '/>JOOMA:',\n",
              " '/>KABWIRA:',\n",
              " '/>KAPOLOMA:',\n",
              " '/>MALAMULO',\n",
              " '/>MBALI',\n",
              " '/>MFUMU',\n",
              " '/>MSUSA:',\n",
              " '/>MWAKHWAWA:',\n",
              " '/>MWAMBO',\n",
              " '/>NDENDE',\n",
              " '/>NDUNA',\n",
              " '/>NGOMBA',\n",
              " '/>NYUMBA',\n",
              " '/>OYENDETSA',\n",
              " '/>PAPA',\n",
              " '/>PAPA:',\n",
              " '/>PHIRI:',\n",
              " '/>PRESIDENT',\n",
              " '/>TAMBALA:',\n",
              " '/>TAMBULASI:',\n",
              " '/>TCHALITCHI',\n",
              " '/>UNDUNA',\n",
              " '/>WACHENJEZA',\n",
              " '/>WAKHULULUKIRA',\n",
              " '/>WAMEMA',\n",
              " '/>WAPEMPHA',\n",
              " '/>WAPEREKA',\n",
              " '/>WAPEZEKA',\n",
              " '/>WAPITA',\n",
              " '/>WASAYINIRA',\n",
              " '/>WATHETSA',\n",
              " '/>WATI',\n",
              " '/>WATSIMIKIZA',\n",
              " '/>WAUZA',\n",
              " '/>WAVOMEREZA',\n",
              " '/>WAYAMIKIRA',\n",
              " '/>ZIGAWENGA',\n",
              " '/>ZINA',\n",
              " '/UPLOADS/2019/09/BISHOP-STIMAJPG',\n",
              " '/UPLOADS/2019/09/CHABULIKAJPG\"',\n",
              " '/WP-CONTENT/UPLOADS/2019/09/BOTOMANIJPG\"',\n",
              " '/WP-CONTENT/UPLOADS/2019/09/CHIMULIRENJIJPG\"',\n",
              " '/WP-CONTENT/UPLOADS/2019/09/KAPOMBOSOLAJPG\"',\n",
              " '0',\n",
              " '00',\n",
              " '000',\n",
              " '000)',\n",
              " '0000',\n",
              " '000;',\n",
              " '000?',\n",
              " '004',\n",
              " '01',\n",
              " '013',\n",
              " '02/HOMEPAGE-5JPG',\n",
              " '022JPG',\n",
              " '024',\n",
              " '044',\n",
              " '045',\n",
              " '048',\n",
              " '060',\n",
              " '065',\n",
              " '065%',\n",
              " '07',\n",
              " '072',\n",
              " '077',\n",
              " '08',\n",
              " '080',\n",
              " '0823-WA0070JPG',\n",
              " '083',\n",
              " '0881',\n",
              " '0881496',\n",
              " '0882',\n",
              " '0883164130/',\n",
              " '0884',\n",
              " '0885',\n",
              " '0888',\n",
              " '094',\n",
              " '0991',\n",
              " '0992',\n",
              " '0992256715',\n",
              " '0995268735',\n",
              " '0998',\n",
              " '0999',\n",
              " '1',\n",
              " '1-0',\n",
              " '1-1',\n",
              " '1-4',\n",
              " '10',\n",
              " '10!',\n",
              " '100',\n",
              " '1000',\n",
              " '100;',\n",
              " '100OTOLERA:',\n",
              " '100VW',\n",
              " '101',\n",
              " '102',\n",
              " '1024W',\n",
              " '1024W\"',\n",
              " '103',\n",
              " '104',\n",
              " '1040W\"',\n",
              " '105',\n",
              " '106',\n",
              " '107',\n",
              " '108',\n",
              " '1080W\"',\n",
              " '11',\n",
              " '110',\n",
              " '112',\n",
              " '114',\n",
              " '1141',\n",
              " '115',\n",
              " '1152',\n",
              " '1163',\n",
              " '119',\n",
              " '12',\n",
              " '12(B)(IX)',\n",
              " '12(B)(VII)',\n",
              " '120',\n",
              " '1200',\n",
              " '121',\n",
              " '122',\n",
              " '124',\n",
              " '125',\n",
              " '1253',\n",
              " '126',\n",
              " '1264',\n",
              " '129',\n",
              " '13',\n",
              " '13-16',\n",
              " '130',\n",
              " '1306',\n",
              " '131',\n",
              " '132',\n",
              " '135',\n",
              " '136',\n",
              " '137',\n",
              " '138',\n",
              " '138(1)',\n",
              " '139',\n",
              " '13;',\n",
              " '14',\n",
              " '140',\n",
              " '142',\n",
              " '143',\n",
              " '145',\n",
              " '147',\n",
              " '1475',\n",
              " '15',\n",
              " '15!',\n",
              " '150',\n",
              " '150-THOUSAND-KWACHA',\n",
              " '1500',\n",
              " '150000',\n",
              " '1505',\n",
              " '153',\n",
              " '154',\n",
              " '1551',\n",
              " '158',\n",
              " '1581',\n",
              " '15TH',\n",
              " '16',\n",
              " '160',\n",
              " '162',\n",
              " '163',\n",
              " '164',\n",
              " '168',\n",
              " '17',\n",
              " '170',\n",
              " '170W\"',\n",
              " '1711',\n",
              " '172',\n",
              " '174',\n",
              " '175L',\n",
              " '176',\n",
              " '177',\n",
              " '1770',\n",
              " '178',\n",
              " '17887',\n",
              " '1795',\n",
              " '17TH',\n",
              " '18',\n",
              " '18-23',\n",
              " '180',\n",
              " '180-MILLION-KWACHA',\n",
              " '181',\n",
              " '184',\n",
              " '184(1)',\n",
              " '1861',\n",
              " '1890',\n",
              " '1898',\n",
              " '19',\n",
              " '19-23',\n",
              " '190',\n",
              " '1905',\n",
              " '191',\n",
              " '1910',\n",
              " '1911',\n",
              " '1915',\n",
              " '1918',\n",
              " '1919',\n",
              " '192',\n",
              " '1920',\n",
              " '1924',\n",
              " '1926',\n",
              " '193',\n",
              " '1930',\n",
              " '1931',\n",
              " '1934',\n",
              " '1937',\n",
              " '1938IYE',\n",
              " '1939',\n",
              " '1944',\n",
              " '1949',\n",
              " '1950',\n",
              " '1951',\n",
              " '1952',\n",
              " '1958',\n",
              " '1959',\n",
              " '1960',\n",
              " '1961',\n",
              " '1962',\n",
              " '1963',\n",
              " '1964',\n",
              " '1965',\n",
              " '1966',\n",
              " '1967',\n",
              " '1969',\n",
              " '197',\n",
              " '1970',\n",
              " '1971',\n",
              " '1972',\n",
              " '1973',\n",
              " '1974',\n",
              " '1975',\n",
              " '1975)',\n",
              " '1976',\n",
              " '1977',\n",
              " '1978',\n",
              " '1979',\n",
              " '1980',\n",
              " '1981',\n",
              " '1982',\n",
              " '1983',\n",
              " '1984',\n",
              " '1985',\n",
              " '1986',\n",
              " '1987',\n",
              " '1988/89',\n",
              " '1989',\n",
              " '1990',\n",
              " '1992',\n",
              " '1993',\n",
              " '1994',\n",
              " '1995',\n",
              " '1996',\n",
              " '1997',\n",
              " '1998',\n",
              " '1999',\n",
              " '1:',\n",
              " '1GM/L',\n",
              " '2',\n",
              " '2-0',\n",
              " '2-1',\n",
              " '2-2',\n",
              " '2/PAGINA-NEWS-ED-EVENTIJPG',\n",
              " '20',\n",
              " '20%',\n",
              " '200',\n",
              " '2000',\n",
              " '2000-KWACHA',\n",
              " '2000W\"',\n",
              " '2001',\n",
              " '2002',\n",
              " '2003',\n",
              " '2004',\n",
              " '2005',\n",
              " '2006',\n",
              " '2007',\n",
              " '2008',\n",
              " '2009',\n",
              " '200W\"',\n",
              " '2010',\n",
              " '2010/2011',\n",
              " '2010]',\n",
              " '2011',\n",
              " '2011/2012',\n",
              " '2011CHIMASONYEZA',\n",
              " '2012',\n",
              " '2012/2013',\n",
              " '2013',\n",
              " '2013/2014',\n",
              " '2014',\n",
              " '2014-WA',\n",
              " '2014/15',\n",
              " '2014/2015',\n",
              " '2014ZA',\n",
              " '2015',\n",
              " '2015/16',\n",
              " '2015MANEB',\n",
              " '2015]',\n",
              " '2016',\n",
              " '2016-2017',\n",
              " '2016/2017',\n",
              " '2016MKULU',\n",
              " '2017',\n",
              " '2017/18',\n",
              " '2018',\n",
              " '2018/19',\n",
              " '2018:',\n",
              " '2019',\n",
              " '2019/07/LENGWE-NPJPG',\n",
              " '2019/10/CHILANGA-170X170JPG',\n",
              " '2019/11/ZOMBA-PRISONJPG',\n",
              " '2019/20',\n",
              " '2019/2020',\n",
              " '2019:',\n",
              " '2019NDIPO',\n",
              " '2020',\n",
              " '2020-2021',\n",
              " '2020/2021',\n",
              " '2021',\n",
              " '2022',\n",
              " '2023',\n",
              " '2024',\n",
              " '2025',\n",
              " '203',\n",
              " '2030',\n",
              " '2030-AL-SISI',\n",
              " '204',\n",
              " '20553',\n",
              " '20629',\n",
              " '2084',\n",
              " '209',\n",
              " '209PX\"',\n",
              " '209PX)',\n",
              " '20:35',\n",
              " '20;',\n",
              " '20TH',\n",
              " '21',\n",
              " '21-YEAR-OLD',\n",
              " '210',\n",
              " '211',\n",
              " '2142',\n",
              " '218',\n",
              " '219',\n",
              " '21;',\n",
              " '21POFUNA',\n",
              " '22',\n",
              " '222',\n",
              " '2234%',\n",
              " '22A',\n",
              " '23',\n",
              " '230',\n",
              " '2339',\n",
              " '234',\n",
              " '235',\n",
              " '23:03',\n",
              " '23:21:0+4S',\n",
              " '23]',\n",
              " '24',\n",
              " '240',\n",
              " '240PX\"',\n",
              " '240PX)',\n",
              " '242',\n",
              " '244',\n",
              " '248',\n",
              " '2482',\n",
              " '249',\n",
              " '24TH',\n",
              " '24W',\n",
              " '25',\n",
              " '25-30',\n",
              " '250',\n",
              " '2500',\n",
              " '252',\n",
              " '254',\n",
              " '258',\n",
              " '26',\n",
              " '260',\n",
              " '2615',\n",
              " '269',\n",
              " '27',\n",
              " '27-28',\n",
              " '27-MOI',\n",
              " '271',\n",
              " '276',\n",
              " '277',\n",
              " '279',\n",
              " '28',\n",
              " '280',\n",
              " '282',\n",
              " '282PX\"',\n",
              " '282PX)',\n",
              " '2848',\n",
              " '285',\n",
              " '286',\n",
              " '288',\n",
              " '28884',\n",
              " '28TH',\n",
              " '29',\n",
              " '290',\n",
              " '290PX\"',\n",
              " '290PX)',\n",
              " '295',\n",
              " '2:00',\n",
              " '2KG',\n",
              " '2ML/L',\n",
              " '3',\n",
              " '3-0',\n",
              " '3-1',\n",
              " '3-2',\n",
              " '30',\n",
              " '300',\n",
              " '3000',\n",
              " '300;',\n",
              " '300PX\"',\n",
              " '300PX)',\n",
              " '300W',\n",
              " '301W\"',\n",
              " '302',\n",
              " '302W\"',\n",
              " '303W\"',\n",
              " '3075',\n",
              " '307PX\"',\n",
              " '307PX)',\n",
              " '308W\"',\n",
              " '30T',\n",
              " '30TH',\n",
              " '31',\n",
              " '312W\"',\n",
              " '318',\n",
              " '319',\n",
              " '319W\"',\n",
              " '32',\n",
              " '320',\n",
              " '322',\n",
              " '328',\n",
              " '32;',\n",
              " '33',\n",
              " '330',\n",
              " '336W\"',\n",
              " '337',\n",
              " '337PX\"',\n",
              " '337PX)',\n",
              " '34',\n",
              " '340',\n",
              " '341',\n",
              " '342',\n",
              " '343',\n",
              " '344',\n",
              " '345',\n",
              " '347',\n",
              " '349',\n",
              " '35',\n",
              " '35%',\n",
              " '35-37',\n",
              " '350',\n",
              " '350C',\n",
              " '351',\n",
              " '352',\n",
              " '3541',\n",
              " '356',\n",
              " '357PX\"',\n",
              " '357PX)',\n",
              " '36',\n",
              " '360',\n",
              " '361',\n",
              " '362',\n",
              " '3624',\n",
              " '365W\"',\n",
              " '367W\"',\n",
              " '369',\n",
              " '36;',\n",
              " '37',\n",
              " '375',\n",
              " '378',\n",
              " '38',\n",
              " ...]"
            ]
          },
          "metadata": {
            "tags": []
          },
          "execution_count": 182
        }
      ]
    },
    {
      "cell_type": "code",
      "metadata": {
        "colab": {
          "base_uri": "https://localhost:8080/"
        },
        "id": "h6aVcKkxMiPs",
        "outputId": "02130424-1ee7-4e77-bb3a-84186b0bc3f2"
      },
      "source": [
        "def findA():\n",
        "    for inx,i in enumerate(words):\n",
        "        if i==\"A\":\n",
        "            print(inx)\n",
        "            return(inx)\n",
        "words=words[findA():]"
      ],
      "execution_count": 183,
      "outputs": [
        {
          "output_type": "stream",
          "text": [
            "1353\n"
          ],
          "name": "stdout"
        }
      ]
    },
    {
      "cell_type": "code",
      "metadata": {
        "id": "KIizRamQJl2J"
      },
      "source": [
        "wlen=4"
      ],
      "execution_count": 184,
      "outputs": []
    },
    {
      "cell_type": "code",
      "metadata": {
        "id": "zkgiess0DakD"
      },
      "source": [
        "m6=[]\n",
        "for w in words:\n",
        "    if len(w)>wlen:\n",
        "        m6.append(w[:wlen])\n",
        "    else:\n",
        "        m6.append(w)\n",
        "m6=list(set(m6))\n"
      ],
      "execution_count": 185,
      "outputs": []
    },
    {
      "cell_type": "code",
      "metadata": {
        "colab": {
          "base_uri": "https://localhost:8080/"
        },
        "id": "HYUhcwJ2GIW2",
        "outputId": "27adc72e-4e5d-4d55-d82a-1b848c343187"
      },
      "source": [
        "m6[:200]"
      ],
      "execution_count": 186,
      "outputs": [
        {
          "output_type": "execute_result",
          "data": {
            "text/plain": [
              "['KHOL',\n",
              " 'MITS',\n",
              " 'AZAL',\n",
              " 'HEAL',\n",
              " 'MABI',\n",
              " 'LENO',\n",
              " 'YES',\n",
              " 'PAZI',\n",
              " 'MZUZ',\n",
              " 'LAPA',\n",
              " 'AKAK',\n",
              " 'ABWI',\n",
              " 'LOTS',\n",
              " 'FASH',\n",
              " 'UKHO',\n",
              " 'ATOP',\n",
              " 'DYER',\n",
              " 'NDI',\n",
              " 'LAIK',\n",
              " 'DESM',\n",
              " 'BIRT',\n",
              " 'DEPU',\n",
              " 'UMAY',\n",
              " 'TRUC',\n",
              " 'KONG',\n",
              " 'KUTI',\n",
              " 'BANN',\n",
              " 'KAPH',\n",
              " 'KHIS',\n",
              " 'ZILU',\n",
              " 'GAGA',\n",
              " 'MAFC',\n",
              " 'MBIZ',\n",
              " 'BR86',\n",
              " 'TEMU',\n",
              " 'IWOT',\n",
              " 'PIRA',\n",
              " 'PENG',\n",
              " 'ASIL',\n",
              " 'ASOK',\n",
              " 'PAMB',\n",
              " 'MTSG',\n",
              " 'SHOU',\n",
              " 'WAZO',\n",
              " 'YAYI',\n",
              " 'YAGU',\n",
              " 'AKUO',\n",
              " 'KUDY',\n",
              " 'K18',\n",
              " 'BBC',\n",
              " 'GIOV',\n",
              " 'YAYA',\n",
              " 'HAPP',\n",
              " 'ABOV',\n",
              " 'WOSU',\n",
              " 'DIRE',\n",
              " 'DZIP',\n",
              " 'SPLA',\n",
              " 'CIVO',\n",
              " 'ANLA',\n",
              " 'ECON',\n",
              " 'MOMU',\n",
              " 'INKA',\n",
              " 'TODA',\n",
              " 'ELSI',\n",
              " '[SUK',\n",
              " 'KOIP',\n",
              " 'LINO',\n",
              " 'VIGW',\n",
              " 'YANI',\n",
              " 'BURD',\n",
              " 'AKAL',\n",
              " 'NKUT',\n",
              " 'ODAL',\n",
              " 'KAPO',\n",
              " 'MABW',\n",
              " 'VATI',\n",
              " 'IPIK',\n",
              " 'ABED',\n",
              " 'BEDD',\n",
              " 'SWIN',\n",
              " 'SENS',\n",
              " 'OFUN',\n",
              " 'URBA',\n",
              " 'KOPO',\n",
              " 'HARO',\n",
              " 'KAYU',\n",
              " 'WISC',\n",
              " 'LAMU',\n",
              " 'NGAC',\n",
              " 'LADE',\n",
              " 'KAMB',\n",
              " 'APUK',\n",
              " 'OPHA',\n",
              " 'MDUW',\n",
              " 'AWAB',\n",
              " 'SOUN',\n",
              " 'LIAB',\n",
              " 'MUNE',\n",
              " 'SINK',\n",
              " 'SPOI',\n",
              " 'AKUD',\n",
              " 'AKUK',\n",
              " 'GUAD',\n",
              " 'MZIT',\n",
              " 'DOWA',\n",
              " 'HAA!',\n",
              " 'POMA',\n",
              " 'BALI',\n",
              " 'K606',\n",
              " 'MUNL',\n",
              " 'SYNO',\n",
              " 'CHOI',\n",
              " 'MNUM',\n",
              " 'ANAS',\n",
              " 'NEMA',\n",
              " 'NTCH',\n",
              " 'MPAW',\n",
              " 'RANC',\n",
              " 'CHOP',\n",
              " 'KOPU',\n",
              " 'BOKO',\n",
              " 'MMD',\n",
              " 'OPEE',\n",
              " 'DEFI',\n",
              " 'UTAD',\n",
              " 'WHOM',\n",
              " 'TOWO',\n",
              " 'AZIF',\n",
              " 'ALLE',\n",
              " 'KUIP',\n",
              " 'NGAD',\n",
              " 'USOK',\n",
              " 'LIPA',\n",
              " 'AWAN',\n",
              " 'HELL',\n",
              " 'MSEM',\n",
              " 'PREZ',\n",
              " 'MLIF',\n",
              " 'SUSE',\n",
              " 'NDAP',\n",
              " 'MITH',\n",
              " 'AFRA',\n",
              " 'CFM',\n",
              " 'IMMI',\n",
              " 'SIUT',\n",
              " 'AYUD',\n",
              " 'UKWE',\n",
              " 'CI',\n",
              " 'MIYO',\n",
              " 'SEAS',\n",
              " 'GAME',\n",
              " 'ANDA',\n",
              " 'GOZI',\n",
              " 'ISAN',\n",
              " 'MNOZ',\n",
              " 'ABEL',\n",
              " 'ATAH',\n",
              " 'MPHI',\n",
              " 'ODIL',\n",
              " 'MMAB',\n",
              " 'NGOT',\n",
              " 'MSUZ',\n",
              " 'ZAMW',\n",
              " 'ATAV',\n",
              " 'ATIM',\n",
              " 'LAZI',\n",
              " 'CHI-',\n",
              " 'OKOM',\n",
              " 'NKUP',\n",
              " 'EXTR',\n",
              " 'HOTE',\n",
              " 'UPAN',\n",
              " 'YOHA',\n",
              " 'UPO',\n",
              " 'ZAON',\n",
              " 'MINO',\n",
              " 'TUKO',\n",
              " 'NAZA',\n",
              " 'MUKA',\n",
              " 'ETI',\n",
              " 'APAM',\n",
              " 'WOPI',\n",
              " 'YOPE',\n",
              " 'BILI',\n",
              " 'HETH',\n",
              " 'PM',\n",
              " 'TASK',\n",
              " 'ABAC',\n",
              " 'ZODY',\n",
              " 'WAUC',\n",
              " 'SEMB',\n",
              " 'OUR',\n",
              " 'ZONJ',\n",
              " 'KAZE',\n",
              " 'THAZ',\n",
              " 'OTIT',\n",
              " 'K80',\n",
              " 'MUZO',\n",
              " 'AKAW']"
            ]
          },
          "metadata": {
            "tags": []
          },
          "execution_count": 186
        }
      ]
    },
    {
      "cell_type": "code",
      "metadata": {
        "id": "EVCAaC-jRIpB"
      },
      "source": [
        "lines=[]\n",
        "for i in range(len(df)):\n",
        "    s1=set(df.Text[i].replace(\",\",\"\").replace(\".\",\"\").upper().split())\n",
        "    line=[]\n",
        "    for w in s1:\n",
        "        if len(w)>wlen:\n",
        "            wmini=w[:wlen]\n",
        "        else:\n",
        "            wmini=w\n",
        "        if wmini in m6:\n",
        "            line.append(m6.index(wmini))\n",
        "    lines.append(line)"
      ],
      "execution_count": 187,
      "outputs": []
    },
    {
      "cell_type": "code",
      "metadata": {
        "colab": {
          "base_uri": "https://localhost:8080/"
        },
        "id": "VyFIYRlgVn0x",
        "outputId": "2701563a-8a34-49ac-cb29-481e6155b0d3"
      },
      "source": [
        "len(lines[0])"
      ],
      "execution_count": 188,
      "outputs": [
        {
          "output_type": "execute_result",
          "data": {
            "text/plain": [
              "229"
            ]
          },
          "metadata": {
            "tags": []
          },
          "execution_count": 188
        }
      ]
    },
    {
      "cell_type": "code",
      "metadata": {
        "id": "5tVYF3B3WE59"
      },
      "source": [
        "ritka=[]\n",
        "\n",
        "for line in lines:\n",
        "    ritkaline=[0 for i in range(len(m6))]\n",
        "    for pos in line:\n",
        "        ritkaline[pos]=1\n",
        "    ritka.append(ritkaline)"
      ],
      "execution_count": 189,
      "outputs": []
    },
    {
      "cell_type": "code",
      "metadata": {
        "colab": {
          "base_uri": "https://localhost:8080/"
        },
        "id": "OQsilWjacdtH",
        "outputId": "72dc5f8a-f1c2-4364-caf8-bea03ac44d08"
      },
      "source": [
        "!pip install tensorflow-addons"
      ],
      "execution_count": 190,
      "outputs": [
        {
          "output_type": "stream",
          "text": [
            "Requirement already satisfied: tensorflow-addons in /usr/local/lib/python3.7/dist-packages (0.12.1)\n",
            "Requirement already satisfied: typeguard>=2.7 in /usr/local/lib/python3.7/dist-packages (from tensorflow-addons) (2.7.1)\n"
          ],
          "name": "stdout"
        }
      ]
    },
    {
      "cell_type": "code",
      "metadata": {
        "id": "RS-EFZ06c_WN"
      },
      "source": [
        ""
      ],
      "execution_count": 138,
      "outputs": []
    },
    {
      "cell_type": "code",
      "metadata": {
        "id": "SyTwjH3jWXPW"
      },
      "source": [
        "from keras.layers import InputLayer, Dense, LSTM, Input, Dropout\n",
        "from keras.models import Sequential, Model\n",
        "from keras.optimizers import SGD,Adam,Adamax,Nadam,Ftrl,Adadelta,Adagrad,Nadam\n",
        "import tensorflow as tf\n",
        "from tensorflow.keras.callbacks import ModelCheckpoint\n",
        "from keras.backend import clear_session\n",
        "from tensorflow.keras.losses import mean_absolute_percentage_error, huber,kld\n",
        "import tensorflow_addons as tfa\n"
      ],
      "execution_count": 192,
      "outputs": []
    },
    {
      "cell_type": "code",
      "metadata": {
        "colab": {
          "base_uri": "https://localhost:8080/"
        },
        "id": "uZvgUeM6emAN",
        "outputId": "a1c058d6-3fcb-4f3a-9bac-006b010c134c"
      },
      "source": [
        "len(ritka)"
      ],
      "execution_count": 232,
      "outputs": [
        {
          "output_type": "execute_result",
          "data": {
            "text/plain": [
              "1436"
            ]
          },
          "metadata": {
            "tags": []
          },
          "execution_count": 232
        }
      ]
    },
    {
      "cell_type": "code",
      "metadata": {
        "id": "FcsN0PIEczeF"
      },
      "source": [
        "X=ritka[:1000]\n",
        "X_test=ritka[1000:]\n",
        "yall=list(df.label_index)\n",
        "y=yall[:1000]\n",
        "y_test=yall[1000:]"
      ],
      "execution_count": 242,
      "outputs": []
    },
    {
      "cell_type": "code",
      "metadata": {
        "colab": {
          "base_uri": "https://localhost:8080/"
        },
        "id": "h6r76C7CIkVR",
        "outputId": "0579cd22-7571-49aa-e49d-92f5ef02e2e4"
      },
      "source": [
        "len(X_test)"
      ],
      "execution_count": 243,
      "outputs": [
        {
          "output_type": "execute_result",
          "data": {
            "text/plain": [
              "436"
            ]
          },
          "metadata": {
            "tags": []
          },
          "execution_count": 243
        }
      ]
    },
    {
      "cell_type": "code",
      "metadata": {
        "id": "mGKaIdLtcoin"
      },
      "source": [
        "clear_session()\n",
        "\n",
        "kernel_reg_1=tf.keras.regularizers.L2(0.1)\n",
        "\n",
        "input_size=len(X[0])\n",
        "output_size=20\n",
        "drop_frac0=0.3  #0.6 jó\n",
        "drop_frac1=0.3  \n",
        "\n",
        "\n",
        "\n",
        "\n",
        "input1=Input(shape=(input_size,))\n",
        "\n",
        "\n",
        "l1_out=Dense(10,activation=\"relu\",)(input1) # 202102262002 l1_out=Dense(370,activation=\"sigmoid\")(input1)\n",
        "l2_out=Dropout(drop_frac0)(l1_out)\n",
        "l3_out=Dense(30,activation=\"relu\",)(l2_out) # 202102262002 l1_out=Dense(370,activation=\"sigmoid\")(input1)\n",
        "l4_out=Dropout(drop_frac0)(l3_out)\n",
        "\n",
        "\n",
        "\n",
        "\n",
        "pred=Dense(output_size,activation=\"softmax\")(l4_out)\n",
        "\n",
        "model = Model(inputs=input1, outputs=pred)\n",
        "optimizer=Adamax(learning_rate=0.00005,) #202102261859 ~0,0038: Adamax(learning_rate=0.01,) #SGD(lr=0.005, decay=1e-4, momentum=0.9)\n",
        "optimizer=Nadam(learning_rate=0.00005,)\n",
        "optimizer=tfa.optimizers.LazyAdam(0.001)\n",
        "opt = tf.keras.optimizers.Adam(learning_rate=0.001)\n",
        "optimizer = tfa.optimizers.Lookahead(opt)\n",
        "\n",
        "model.compile(loss='sparse_categorical_crossentropy',\n",
        "    optimizer=optimizer,\n",
        "    metrics=[\"accuracy\"])"
      ],
      "execution_count": 286,
      "outputs": []
    },
    {
      "cell_type": "code",
      "metadata": {
        "colab": {
          "base_uri": "https://localhost:8080/"
        },
        "id": "XEalVvNifm3E",
        "outputId": "9232ca3d-f322-4427-bed6-9f97f0f60a64"
      },
      "source": [
        "history = model.fit( X,y,validation_data=(X_test,y_test), \n",
        "                        epochs=100, \n",
        "                        batch_size=3,\n",
        "                        \n",
        "                        verbose=1\n",
        "                              \n",
        "                              )"
      ],
      "execution_count": null,
      "outputs": [
        {
          "output_type": "stream",
          "text": [
            "Epoch 1/100\n",
            "334/334 [==============================] - 16s 44ms/step - loss: 2.8959 - accuracy: 0.1415 - val_loss: 2.5221 - val_accuracy: 0.2500\n",
            "Epoch 2/100\n",
            "334/334 [==============================] - 1s 4ms/step - loss: 2.3955 - accuracy: 0.2597 - val_loss: 2.2583 - val_accuracy: 0.3096\n",
            "Epoch 3/100\n",
            "334/334 [==============================] - 1s 4ms/step - loss: 2.0446 - accuracy: 0.3630 - val_loss: 2.1035 - val_accuracy: 0.3693\n",
            "Epoch 4/100\n",
            "334/334 [==============================] - 1s 4ms/step - loss: 1.8661 - accuracy: 0.4027 - val_loss: 2.0167 - val_accuracy: 0.3853\n",
            "Epoch 5/100\n",
            "334/334 [==============================] - 1s 4ms/step - loss: 1.6295 - accuracy: 0.4860 - val_loss: 1.9206 - val_accuracy: 0.4771\n",
            "Epoch 6/100\n",
            "334/334 [==============================] - 1s 4ms/step - loss: 1.5127 - accuracy: 0.5023 - val_loss: 1.8394 - val_accuracy: 0.4817\n",
            "Epoch 7/100\n",
            "334/334 [==============================] - 2s 5ms/step - loss: 1.3158 - accuracy: 0.5826 - val_loss: 1.8287 - val_accuracy: 0.4862\n",
            "Epoch 8/100\n",
            "334/334 [==============================] - 1s 4ms/step - loss: 1.3077 - accuracy: 0.5660 - val_loss: 1.8654 - val_accuracy: 0.4908\n",
            "Epoch 9/100\n",
            "334/334 [==============================] - 1s 4ms/step - loss: 1.2806 - accuracy: 0.5710 - val_loss: 1.8175 - val_accuracy: 0.4748\n",
            "Epoch 10/100\n",
            "334/334 [==============================] - 2s 5ms/step - loss: 1.0536 - accuracy: 0.6613 - val_loss: 1.8349 - val_accuracy: 0.5000\n",
            "Epoch 11/100\n",
            "334/334 [==============================] - 2s 6ms/step - loss: 1.0108 - accuracy: 0.6809 - val_loss: 1.8467 - val_accuracy: 0.5023\n",
            "Epoch 12/100\n",
            "334/334 [==============================] - 1s 4ms/step - loss: 0.9958 - accuracy: 0.6712 - val_loss: 1.8448 - val_accuracy: 0.5069\n",
            "Epoch 13/100\n",
            "334/334 [==============================] - 1s 4ms/step - loss: 0.9669 - accuracy: 0.7112 - val_loss: 1.8796 - val_accuracy: 0.5023\n",
            "Epoch 14/100\n",
            "334/334 [==============================] - 2s 5ms/step - loss: 0.8166 - accuracy: 0.7341 - val_loss: 1.9139 - val_accuracy: 0.5138\n",
            "Epoch 15/100\n",
            "334/334 [==============================] - 1s 4ms/step - loss: 0.8367 - accuracy: 0.7185 - val_loss: 1.9416 - val_accuracy: 0.5046\n",
            "Epoch 16/100\n",
            "334/334 [==============================] - 1s 4ms/step - loss: 0.7816 - accuracy: 0.7673 - val_loss: 1.9549 - val_accuracy: 0.5138\n",
            "Epoch 17/100\n",
            " 95/334 [=======>......................] - ETA: 0s - loss: 0.9936 - accuracy: 0.6406"
          ],
          "name": "stdout"
        }
      ]
    },
    {
      "cell_type": "code",
      "metadata": {
        "colab": {
          "base_uri": "https://localhost:8080/"
        },
        "id": "wbhTsikaTcMo",
        "outputId": "d795ab31-484d-41d0-9bb7-16969242641f"
      },
      "source": [
        "!rm Test.csv\n",
        "fname=\"https://github.com/sipocz/malavi/raw/main/Test.csv\"\n",
        "!wget https://github.com/sipocz/malavi/raw/main/Test.csv"
      ],
      "execution_count": 264,
      "outputs": [
        {
          "output_type": "stream",
          "text": [
            "--2021-03-30 23:48:57--  https://github.com/sipocz/malavi/raw/main/Test.csv\n",
            "Resolving github.com (github.com)... 140.82.113.3\n",
            "Connecting to github.com (github.com)|140.82.113.3|:443... connected.\n",
            "HTTP request sent, awaiting response... 302 Found\n",
            "Location: https://raw.githubusercontent.com/sipocz/malavi/main/Test.csv [following]\n",
            "--2021-03-30 23:48:57--  https://raw.githubusercontent.com/sipocz/malavi/main/Test.csv\n",
            "Resolving raw.githubusercontent.com (raw.githubusercontent.com)... 185.199.109.133, 185.199.108.133, 185.199.110.133, ...\n",
            "Connecting to raw.githubusercontent.com (raw.githubusercontent.com)|185.199.109.133|:443... connected.\n",
            "HTTP request sent, awaiting response... 200 OK\n",
            "Length: 1377913 (1.3M) [text/plain]\n",
            "Saving to: ‘Test.csv’\n",
            "\n",
            "Test.csv            100%[===================>]   1.31M  --.-KB/s    in 0.06s   \n",
            "\n",
            "2021-03-30 23:48:57 (21.9 MB/s) - ‘Test.csv’ saved [1377913/1377913]\n",
            "\n"
          ],
          "name": "stdout"
        }
      ]
    },
    {
      "cell_type": "code",
      "metadata": {
        "colab": {
          "base_uri": "https://localhost:8080/"
        },
        "id": "UUfA7f8PVfLI",
        "outputId": "8ed0e74f-7273-4d05-e812-7a5b97d5abe5"
      },
      "source": [
        "!head Test.csv"
      ],
      "execution_count": 265,
      "outputs": [
        {
          "output_type": "stream",
          "text": [
            "ID,Text\n",
            "ID_ADHEtjTi,\" Abambo odzikhweza akuchuluka Kafukufuku wa apolisi mdziko muno waonetsa kuti abambo 90 ndiwo amadzipha pa anthu 100 alionse amene amatenga miyoyo yawo podzikhweza kapena kudzipha mnjira zina.\n",
            "  Pa Wenela pasintha zedi  ANatchereza  Tidakumana ku sukulu ku Chiradzulu Malinga ndi mneneri kulikulu la polisi, Nicholas Gondwa, abambo ambiri amalimba mtima ndi kudzipha kusiyana ndi amayi.\n",
            " Koma amayi ndi olimba mtima, amakumana ndi nkhanza zambiri, koma ndi ochepa omwe amadzichotsera moyo, iye adatero pocheza ndi Msangulutso.\n",
            " Polankhulapo, mneneri wa apolisi mchigawo cha kumpoto, Maurice Chapola, adati abambo ambiri akakumana ndi nkhaza za mbanja amathamangira kudzipha mmalo mokadandaula kunthambi ya polisi ya Victim Support Unit (VSU).\n",
            " Chapola adati abambo khumi ndiwo amakadandaula ku VSU mwa anthu 100 alionse.\n",
            " Kondwani Machano yemwe ndi bambo wa ana awiri, adati abambo amaopa kupita kupolisi akakhala ndi nkhawa kuopa kuukiridwa komanso chifukwa ambiri mwa iwo sadziwa kulankhula.\n",
            " Ndipo katswiri woona zakaganizidwe (psychiatrist), yemwenso ndi mkulu wa chipatala cha St John of God mmzinda wa Mzuzu, Charles Masulani Mwale, adati abambo ambiri akakhala ndi mavuto a mmaganizo, sagawira anzawo za nkhawazo kuopa kuoneka opusa.\n",
            " Abambo amaopa kuoneka opepera akauza ena za mavuto awo ndipo amawasunga mmaganizo, pomwe amayi amagawana nkhawa zawo, Masulani adatero.\n",
            " Iye adati abambowa amakakamira kuthana nawo okha mavuto omwe ali nawo.\n"
          ],
          "name": "stdout"
        }
      ]
    },
    {
      "cell_type": "code",
      "metadata": {
        "id": "48_J6hDGVlDz"
      },
      "source": [
        "df_test=pd.read_csv(\"Test.csv\",sep=\",\")"
      ],
      "execution_count": 266,
      "outputs": []
    },
    {
      "cell_type": "code",
      "metadata": {
        "id": "Mn1rwZ3rV_IA"
      },
      "source": [
        "s1=set()\n",
        "for i in range(len(df_test)):\n",
        "    s1=s1.union(set(df_test.Text[i].replace(\",\",\"\").replace(\".\",\"\").upper().split()))\n",
        "words_test=list(s1)"
      ],
      "execution_count": 267,
      "outputs": []
    },
    {
      "cell_type": "code",
      "metadata": {
        "id": "u5qgUbGmWQbd"
      },
      "source": [
        ""
      ],
      "execution_count": 267,
      "outputs": []
    },
    {
      "cell_type": "code",
      "metadata": {
        "id": "mh-QaFruWs8_"
      },
      "source": [
        "lines=[]\n",
        "for i in range(len(df_test)):\n",
        "    s1=set(df_test.Text[i].replace(\",\",\"\").replace(\".\",\"\").upper().split())\n",
        "    line=[]\n",
        "    for w in s1:\n",
        "        if len(w)>wlen:\n",
        "            wmini=w[:wlen]\n",
        "        else:\n",
        "            wmini=w\n",
        "        if wmini in m6:\n",
        "            line.append(m6.index(wmini))\n",
        "    lines.append(line)"
      ],
      "execution_count": 268,
      "outputs": []
    },
    {
      "cell_type": "code",
      "metadata": {
        "id": "pVJyMcGQXKVz"
      },
      "source": [
        "ritka_test=[]\n",
        "\n",
        "for line in lines:\n",
        "    ritkaline=[0 for i in range(len(m6))]\n",
        "    for pos in line:\n",
        "        ritkaline[pos]=1\n",
        "    ritka_test.append(ritkaline)"
      ],
      "execution_count": 269,
      "outputs": []
    },
    {
      "cell_type": "code",
      "metadata": {
        "id": "2S5-rrkRXbxD"
      },
      "source": [
        "y_pred=model.predict(ritka_test)"
      ],
      "execution_count": 270,
      "outputs": []
    },
    {
      "cell_type": "code",
      "metadata": {
        "id": "LfDPGSFIYPH1"
      },
      "source": [
        "y_pred=list(y_pred)"
      ],
      "execution_count": 271,
      "outputs": []
    },
    {
      "cell_type": "code",
      "metadata": {
        "colab": {
          "base_uri": "https://localhost:8080/"
        },
        "id": "5t_oyYU9YYWN",
        "outputId": "30750c66-4730-4498-8bd5-945c896faa5b"
      },
      "source": [
        "y_pred[:3]"
      ],
      "execution_count": 272,
      "outputs": [
        {
          "output_type": "execute_result",
          "data": {
            "text/plain": [
              "[array([0.13529015, 0.04346243, 0.04420777, 0.09041115, 0.03943438,\n",
              "        0.0617017 , 0.10099053, 0.06289019, 0.11268845, 0.00685822,\n",
              "        0.07469267, 0.02213951, 0.00995287, 0.02043051, 0.01322697,\n",
              "        0.01294375, 0.03658727, 0.02470559, 0.05340416, 0.03398167],\n",
              "       dtype=float32),\n",
              " array([3.5867123e-15, 1.9102836e-12, 2.3433355e-18, 5.6000261e-12,\n",
              "        3.4658387e-01, 2.1687400e-05, 9.0524472e-06, 5.7019103e-01,\n",
              "        8.3194368e-02, 4.2549352e-18, 6.9285622e-16, 9.5070277e-17,\n",
              "        1.3701332e-19, 8.9298300e-18, 6.2462848e-18, 8.6908027e-14,\n",
              "        2.4365698e-12, 8.8508147e-17, 3.1781481e-15, 6.1004755e-17],\n",
              "       dtype=float32),\n",
              " array([0.13529015, 0.04346243, 0.04420777, 0.09041115, 0.03943438,\n",
              "        0.0617017 , 0.10099053, 0.06289019, 0.11268845, 0.00685822,\n",
              "        0.07469267, 0.02213951, 0.00995287, 0.02043051, 0.01322697,\n",
              "        0.01294375, 0.03658727, 0.02470559, 0.05340416, 0.03398167],\n",
              "       dtype=float32)]"
            ]
          },
          "metadata": {
            "tags": []
          },
          "execution_count": 272
        }
      ]
    },
    {
      "cell_type": "code",
      "metadata": {
        "id": "4ksPEYAeXop5"
      },
      "source": [
        "y_becs=[list(y_pred[i]).index(y_pred[i].max()) for i in range(len(y_pred))]  "
      ],
      "execution_count": 273,
      "outputs": []
    },
    {
      "cell_type": "code",
      "metadata": {
        "colab": {
          "base_uri": "https://localhost:8080/"
        },
        "id": "NaknqPIyY3cg",
        "outputId": "308f754e-f130-4261-871f-95a6e7fe3194"
      },
      "source": [
        "y_becs[:3]"
      ],
      "execution_count": 274,
      "outputs": [
        {
          "output_type": "execute_result",
          "data": {
            "text/plain": [
              "[0, 7, 0]"
            ]
          },
          "metadata": {
            "tags": []
          },
          "execution_count": 274
        }
      ]
    },
    {
      "cell_type": "code",
      "metadata": {
        "id": "6M7LDYEtZOeS"
      },
      "source": [
        "labels_res=[labels[y_becs[i]] for i in range (len(y_becs)) ]"
      ],
      "execution_count": 275,
      "outputs": []
    },
    {
      "cell_type": "code",
      "metadata": {
        "colab": {
          "base_uri": "https://localhost:8080/"
        },
        "id": "HoKVr7GBZhcS",
        "outputId": "8acdef51-a95e-46eb-b630-38a6c3f84c0d"
      },
      "source": [
        "labels_res[:3]"
      ],
      "execution_count": 281,
      "outputs": [
        {
          "output_type": "execute_result",
          "data": {
            "text/plain": [
              "['SOCIAL ISSUES', 'SOCIAL', 'SOCIAL ISSUES']"
            ]
          },
          "metadata": {
            "tags": []
          },
          "execution_count": 281
        }
      ]
    },
    {
      "cell_type": "code",
      "metadata": {
        "id": "Z1BUrkeBZslO"
      },
      "source": [
        "out=pd.DataFrame(data={\"ID\":df_test.ID,\"Label\":labels_res})"
      ],
      "execution_count": 282,
      "outputs": []
    },
    {
      "cell_type": "code",
      "metadata": {
        "colab": {
          "base_uri": "https://localhost:8080/",
          "height": 204
        },
        "id": "ARCvt_E5cm7d",
        "outputId": "3f451c06-afe8-4f8e-dc43-e328e286e13b"
      },
      "source": [
        "out.head()"
      ],
      "execution_count": 283,
      "outputs": [
        {
          "output_type": "execute_result",
          "data": {
            "text/html": [
              "<div>\n",
              "<style scoped>\n",
              "    .dataframe tbody tr th:only-of-type {\n",
              "        vertical-align: middle;\n",
              "    }\n",
              "\n",
              "    .dataframe tbody tr th {\n",
              "        vertical-align: top;\n",
              "    }\n",
              "\n",
              "    .dataframe thead th {\n",
              "        text-align: right;\n",
              "    }\n",
              "</style>\n",
              "<table border=\"1\" class=\"dataframe\">\n",
              "  <thead>\n",
              "    <tr style=\"text-align: right;\">\n",
              "      <th></th>\n",
              "      <th>ID</th>\n",
              "      <th>Label</th>\n",
              "    </tr>\n",
              "  </thead>\n",
              "  <tbody>\n",
              "    <tr>\n",
              "      <th>0</th>\n",
              "      <td>ID_ADHEtjTi</td>\n",
              "      <td>SOCIAL ISSUES</td>\n",
              "    </tr>\n",
              "    <tr>\n",
              "      <th>1</th>\n",
              "      <td>ID_AHfJktdQ</td>\n",
              "      <td>SOCIAL</td>\n",
              "    </tr>\n",
              "    <tr>\n",
              "      <th>2</th>\n",
              "      <td>ID_AUJIHpZr</td>\n",
              "      <td>SOCIAL ISSUES</td>\n",
              "    </tr>\n",
              "    <tr>\n",
              "      <th>3</th>\n",
              "      <td>ID_AUKYBbIM</td>\n",
              "      <td>LAW/ORDER</td>\n",
              "    </tr>\n",
              "    <tr>\n",
              "      <th>4</th>\n",
              "      <td>ID_AZnsVPEi</td>\n",
              "      <td>SOCIAL ISSUES</td>\n",
              "    </tr>\n",
              "  </tbody>\n",
              "</table>\n",
              "</div>"
            ],
            "text/plain": [
              "            ID          Label\n",
              "0  ID_ADHEtjTi  SOCIAL ISSUES\n",
              "1  ID_AHfJktdQ         SOCIAL\n",
              "2  ID_AUJIHpZr  SOCIAL ISSUES\n",
              "3  ID_AUKYBbIM      LAW/ORDER\n",
              "4  ID_AZnsVPEi  SOCIAL ISSUES"
            ]
          },
          "metadata": {
            "tags": []
          },
          "execution_count": 283
        }
      ]
    },
    {
      "cell_type": "code",
      "metadata": {
        "id": "yT16qPoyczDk"
      },
      "source": [
        "out.to_csv(\"submission_1\",index=False)"
      ],
      "execution_count": 284,
      "outputs": []
    },
    {
      "cell_type": "code",
      "metadata": {
        "colab": {
          "base_uri": "https://localhost:8080/"
        },
        "id": "p6VSDdq0dLbL",
        "outputId": "9c3b9e0d-fb7e-42ee-8f09-620bf4432ca4"
      },
      "source": [
        "!head submission_1"
      ],
      "execution_count": 285,
      "outputs": [
        {
          "output_type": "stream",
          "text": [
            "ID,Label\n",
            "ID_ADHEtjTi,SOCIAL ISSUES\n",
            "ID_AHfJktdQ,SOCIAL\n",
            "ID_AUJIHpZr,SOCIAL ISSUES\n",
            "ID_AUKYBbIM,LAW/ORDER\n",
            "ID_AZnsVPEi,SOCIAL ISSUES\n",
            "ID_AcEmtLNf,SOCIAL\n",
            "ID_AeOXSXRV,POLITICS\n",
            "ID_AgyQFeQn,LAW/ORDER\n",
            "ID_AjOcippL,POLITICS\n"
          ],
          "name": "stdout"
        }
      ]
    }
  ]
}